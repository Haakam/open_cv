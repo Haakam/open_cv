{
 "cells": [
  {
   "cell_type": "markdown",
   "metadata": {},
   "source": [
    "## TEXT ON IMAGE"
   ]
  },
  {
   "cell_type": "code",
   "execution_count": 1,
   "metadata": {},
   "outputs": [],
   "source": [
    "import cv2\n",
    "import numpy as np\n",
    "path=  r\"C:\\Users\\Mr\\Downloads\\images\\boy.jpeg\""
   ]
  },
  {
   "cell_type": "code",
   "execution_count": 6,
   "metadata": {},
   "outputs": [],
   "source": [
    "image=cv2.imread(path)\n",
    "image=cv2.resize(image,(800,700))\n",
    "text=\"cute boy\"\n",
    "org=(50,200)\n",
    "font=cv2.FONT_HERSHEY_COMPLEX\n",
    "fontscale=3\n",
    "color=(0,0,255)\n",
    "thickness=3\n",
    "linetype=cv2.LINE_AA\n",
    "#bottomleftOrigion=True # when value is true it shows text opposite direction\n",
    "\n",
    "img_text=cv2.putText(image,text,org,font,fontscale,color,thickness,linetype)#,bottomleftOrigion)\n",
    "cv2.imshow(\" model window\",img_text)\n",
    "cv2.waitKey(0)\n",
    "cv2.destroyAllWindows()"
   ]
  },
  {
   "cell_type": "code",
   "execution_count": 21,
   "metadata": {},
   "outputs": [],
   "source": [
    "import cv2\n",
    "import numpy as np\n",
    "path=  r\"C:\\Users\\Mr\\Downloads\\Video\\New folder\\girl.jpeg\"\n",
    "\n",
    "# Read the image\n",
    "image = cv2.imread(path)\n",
    "\n",
    "# Define rectangle parameters\n",
    "pt1 = (400, 100)  # Top-left corner\n",
    "pt2 = (200, 400)  # Bottom-right corner\n",
    "color = (0, 0, 255)  # Green color in BGR\n",
    "thickness = 3  # Thickness of 3 px\n",
    "lineType = cv2.LINE_AA  # Antialiased line\n",
    "shift = 0 # Default value for no fractional bits\n",
    "\n",
    "# Draw rectangle on the image\n",
    "img_rect = cv2.rectangle(image, pt1, pt2, color, thickness, lineType, shift)\n",
    "\n",
    "# Display the image\n",
    "cv2.imshow(\"Rectangle Window\", img_rect)\n",
    "cv2.waitKey(0)\n",
    "cv2.destroyAllWindows()\n"
   ]
  },
  {
   "cell_type": "markdown",
   "metadata": {},
   "source": [
    "## fil rectangle with color just give value of thickness with -1"
   ]
  },
  {
   "cell_type": "code",
   "execution_count": 23,
   "metadata": {},
   "outputs": [],
   "source": [
    "import cv2\n",
    "import numpy as np\n",
    "path=  r\"C:\\Users\\Mr\\Downloads\\Video\\New folder\\girl.jpeg\"\n",
    "\n",
    "# Read the image\n",
    "image = cv2.imread(path)\n",
    "\n",
    "# Define rectangle parameters\n",
    "pt1 = (400, 100)  # Top-left corner\n",
    "pt2 = (200, 400)  # Bottom-right corner\n",
    "color = (0, 0, 255)  # Green color in BGR\n",
    "thickness = -1 # Thickness of 3 px\n",
    "lineType = cv2.LINE_AA  # Antialiased line\n",
    "shift = 0 # Default value for no fractional bits\n",
    "\n",
    "# Draw rectangle on the image\n",
    "img_rect = cv2.rectangle(image, pt1, pt2, color, thickness, lineType, shift)\n",
    "\n",
    "# Display the image\n",
    "cv2.imshow(\"Rectangle Window\", img_rect)\n",
    "cv2.waitKey(0)\n",
    "cv2.destroyAllWindows()\n"
   ]
  },
  {
   "cell_type": "markdown",
   "metadata": {},
   "source": [
    "## text on rectangle"
   ]
  },
  {
   "cell_type": "code",
   "execution_count": 27,
   "metadata": {},
   "outputs": [],
   "source": [
    "import cv2\n",
    "import numpy as np\n",
    "path=  r\"C:\\Users\\Mr\\Downloads\\Video\\New folder\\girl.jpeg\"\n",
    "\n",
    "# Read the image\n",
    "image = cv2.imread(path)\n",
    "\n",
    "# Define rectangle parameters\n",
    "pt1 = (400, 100)  # Top-left corner\n",
    "pt2 = (200, 400)  # Bottom-right corner\n",
    "color = (0, 0, 255)  # Green color in BGR\n",
    "thickness = 3 # Thickness of 3 px\n",
    "lineType = cv2.LINE_AA  # Antialiased line\n",
    "shift = 0 # Default value for no fractional bits\n",
    "\n",
    "# Draw rectangle on the image\n",
    "img_rect = cv2.rectangle(image, pt1, pt2, color, thickness, lineType, shift)\n",
    "image=cv2.imread(path)\n",
    "image=cv2.resize(image,(800,700))\n",
    "text=\"model\"\n",
    "org=(200,300)\n",
    "font=cv2.FONT_HERSHEY_COMPLEX\n",
    "fontscale=2\n",
    "color=(0,0,255)\n",
    "thickness=3\n",
    "linetype=cv2.LINE_AA\n",
    "#bottomleftOrigion=True # when value is true it shows text opposite direction\n",
    "\n",
    "img_text=cv2.putText(img_rect ,text,org,font,fontscale,color,thickness,linetype)#,bottomleftOrigion)\n",
    "cv2.imshow(\" model window\",img_text)\n",
    "cv2.waitKey(0)\n",
    "cv2.destroyAllWindows()\n"
   ]
  },
  {
   "cell_type": "markdown",
   "metadata": {},
   "source": [
    "## save image"
   ]
  },
  {
   "cell_type": "code",
   "execution_count": null,
   "metadata": {},
   "outputs": [],
   "source": []
  },
  {
   "cell_type": "code",
   "execution_count": 28,
   "metadata": {},
   "outputs": [],
   "source": [
    "import cv2\n",
    "import numpy as np\n",
    "path=  r\"C:\\Users\\Mr\\Downloads\\Video\\New folder\\girl.jpeg\"\n",
    "\n",
    "# Read the image\n",
    "image = cv2.imread(path)\n",
    "\n",
    "# Define rectangle parameters\n",
    "pt1 = (400, 100)  # Top-left corner\n",
    "pt2 = (200, 400)  # Bottom-right corner\n",
    "color = (0, 0, 255)  # Green color in BGR\n",
    "thickness = 3 # Thickness of 3 px\n",
    "lineType = cv2.LINE_AA  # Antialiased line\n",
    "shift = 0 # Default value for no fractional bits\n",
    "\n",
    "# Draw rectangle on the image\n",
    "img_rect = cv2.rectangle(image, pt1, pt2, color, thickness, lineType, shift)\n",
    "image=cv2.imread(path)\n",
    "image=cv2.resize(image,(800,700))\n",
    "text=\"model\"\n",
    "org=(200,300)\n",
    "font=cv2.FONT_HERSHEY_COMPLEX\n",
    "fontscale=2\n",
    "color=(0,0,255)\n",
    "thickness=3\n",
    "linetype=cv2.LINE_AA\n",
    "#bottomleftOrigion=True # when value is true it shows text opposite direction\n",
    "\n",
    "img_text=cv2.putText(img_rect ,text,org,font,fontscale,color,thickness,linetype)#,bottomleftOrigion)\n",
    "\n",
    "cv2.imwrite(\" text on image.png\",img_text)\n",
    "cv2.imshow(\" model window\",img_text)\n",
    "cv2.waitKey(0)\n",
    "cv2.destroyAllWindows()\n"
   ]
  },
  {
   "cell_type": "markdown",
   "metadata": {},
   "source": [
    "## circle on image"
   ]
  },
  {
   "cell_type": "code",
   "execution_count": 10,
   "metadata": {},
   "outputs": [],
   "source": [
    "import cv2 \n",
    "import numpy as np\n",
    "path=  r\"C:\\Users\\Mr\\Downloads\\Video\\New folder\\girl.jpeg\""
   ]
  },
  {
   "cell_type": "code",
   "execution_count": 4,
   "metadata": {},
   "outputs": [],
   "source": [
    "image=cv2.imread(path)\n",
    "image=cv2.resize(image,(300,200))\n",
    "cv2.imshow(\"image show\",image)\n",
    "cv2.waitKey(0)\n",
    "cv2.destroyAllWindows()"
   ]
  },
  {
   "cell_type": "code",
   "execution_count": 5,
   "metadata": {},
   "outputs": [
    {
     "data": {
      "text/plain": [
       "(200, 300, 3)"
      ]
     },
     "execution_count": 5,
     "metadata": {},
     "output_type": "execute_result"
    }
   ],
   "source": [
    "image.shape"
   ]
  },
  {
   "cell_type": "code",
   "execution_count": 6,
   "metadata": {},
   "outputs": [
    {
     "data": {
      "text/plain": [
       "array([[221, 221, 221, ..., 223, 223, 223],\n",
       "       [221, 221, 221, ..., 223, 223, 223],\n",
       "       [221, 221, 221, ..., 224, 224, 224],\n",
       "       ...,\n",
       "       [ 88,  86,  86, ...,  48,  51,  51],\n",
       "       [ 96,  97, 102, ...,  47,  50,  50],\n",
       "       [ 96,  94,  98, ...,  48,  56,  52]], dtype=uint8)"
      ]
     },
     "execution_count": 6,
     "metadata": {},
     "output_type": "execute_result"
    }
   ],
   "source": [
    "image[:,:,0]"
   ]
  },
  {
   "cell_type": "code",
   "execution_count": 9,
   "metadata": {},
   "outputs": [
    {
     "data": {
      "text/plain": [
       "array([[200, 200, 200, ..., 209, 209, 209],\n",
       "       [200, 200, 200, ..., 209, 209, 209],\n",
       "       [200, 200, 200, ..., 210, 210, 210],\n",
       "       ...,\n",
       "       [117, 113, 112, ...,  73,  77,  77],\n",
       "       [125, 124, 127, ...,  73,  76,  77],\n",
       "       [118, 116, 120, ...,  80,  88,  84]], dtype=uint8)"
      ]
     },
     "execution_count": 9,
     "metadata": {},
     "output_type": "execute_result"
    }
   ],
   "source": [
    "image[:,:,2]"
   ]
  },
  {
   "cell_type": "code",
   "execution_count": 11,
   "metadata": {},
   "outputs": [],
   "source": [
    "\n",
    "image=cv2.imread(path)\n",
    "image=cv2.resize(image,(300,200))\n",
    "gray_image = cv2.cvtColor(image, cv2.COLOR_BGR2GRAY)\n",
    "cv2.imshow(\"image show\",image)\n",
    "cv2.imshow(\"grey image\",gray_image)\n",
    "cv2.waitKey(0)\n",
    "cv2.destroyAllWindows()"
   ]
  },
  {
   "cell_type": "code",
   "execution_count": 12,
   "metadata": {},
   "outputs": [
    {
     "data": {
      "text/plain": [
       "(200, 300, 3)"
      ]
     },
     "execution_count": 12,
     "metadata": {},
     "output_type": "execute_result"
    }
   ],
   "source": [
    "image.shape"
   ]
  },
  {
   "cell_type": "markdown",
   "metadata": {},
   "source": [
    "# split image"
   ]
  },
  {
   "cell_type": "code",
   "execution_count": 14,
   "metadata": {},
   "outputs": [
    {
     "data": {
      "text/plain": [
       "array([[221, 221, 221, ..., 223, 223, 223],\n",
       "       [221, 221, 221, ..., 223, 223, 223],\n",
       "       [221, 221, 221, ..., 224, 224, 224],\n",
       "       ...,\n",
       "       [ 88,  86,  86, ...,  48,  51,  51],\n",
       "       [ 96,  97, 102, ...,  47,  50,  50],\n",
       "       [ 96,  94,  98, ...,  48,  56,  52]], dtype=uint8)"
      ]
     },
     "execution_count": 14,
     "metadata": {},
     "output_type": "execute_result"
    }
   ],
   "source": [
    "b,g,r=cv2.split(image)\n",
    "b"
   ]
  },
  {
   "cell_type": "code",
   "execution_count": 15,
   "metadata": {},
   "outputs": [
    {
     "data": {
      "text/plain": [
       "(200, 300)"
      ]
     },
     "execution_count": 15,
     "metadata": {},
     "output_type": "execute_result"
    }
   ],
   "source": [
    "r.shape"
   ]
  },
  {
   "cell_type": "markdown",
   "metadata": {},
   "source": [
    "## cv2.split is very time consuming and costly as compared to numpy array"
   ]
  },
  {
   "cell_type": "code",
   "execution_count": 27,
   "metadata": {},
   "outputs": [],
   "source": [
    "import cv2 \n",
    "import numpy as np\n",
    "path=  r\"C:\\Users\\Mr\\Downloads\\Video\\New folder\\girl.jpeg\""
   ]
  },
  {
   "cell_type": "code",
   "execution_count": 18,
   "metadata": {},
   "outputs": [],
   "source": [
    "image=cv2.imread(path)\n",
    "image=cv2.resize(image,(300,200))\n",
    "\n",
    "cv2.imshow(\"image show\",image[:,:,2])# using single channel for the image bgr\n",
    "cv2.waitKey(0)\n",
    "cv2.destroyAllWindows()"
   ]
  },
  {
   "cell_type": "code",
   "execution_count": 29,
   "metadata": {},
   "outputs": [],
   "source": [
    "import cv2 \n",
    "import numpy as np\n",
    "path=  r\"C:\\Users\\Mr\\Downloads\\Video\\New folder\\girl.jpeg\"\n",
    "image=cv2.imread(path)\n",
    "image=cv2.resize(image,(300,200))\n",
    "b,g,r=cv2.split(image)# showing image by one channel using split function\n",
    "cv2.imshow(\"image show_b\",b)\n",
    "cv2.imshow(\"image show_g\",g)\n",
    "cv2.imshow(\"image show_r\",r)\n",
    "cv2.waitKey(0)\n",
    "cv2.destroyAllWindows()"
   ]
  },
  {
   "cell_type": "markdown",
   "metadata": {},
   "source": [
    "## merging three channel"
   ]
  },
  {
   "cell_type": "code",
   "execution_count": 25,
   "metadata": {},
   "outputs": [],
   "source": [
    "image_merg=cv2.merge([b,g,r])\n",
    "cv2.imshow(\"image show_r\",image_merg)\n",
    "cv2.waitKey(0)\n",
    "cv2.destroyAllWindows()\n"
   ]
  },
  {
   "cell_type": "markdown",
   "metadata": {},
   "source": [
    "## histrogram of image"
   ]
  },
  {
   "cell_type": "code",
   "execution_count": 2,
   "metadata": {},
   "outputs": [],
   "source": [
    "import cv2\n",
    "import numpy as np\n",
    "path=r\"C:\\Users\\Mr\\Downloads\\images\\pn.png\"\n",
    "image=cv2.imread(path)\n",
    "image=cv2.resize(image,(300,200))\n",
    "cv2.imshow(\"image window\",image)\n",
    "cv2.waitKey(0)\n",
    "cv2.destroyAllWindows()"
   ]
  },
  {
   "cell_type": "code",
   "execution_count": 3,
   "metadata": {},
   "outputs": [
    {
     "data": {
      "text/plain": [
       "array([[[  0,   0,   0],\n",
       "        [  0,   0,   0],\n",
       "        [  0,   0,   0],\n",
       "        ...,\n",
       "        [127, 127, 255],\n",
       "        [127, 127, 255],\n",
       "        [127, 127, 255]],\n",
       "\n",
       "       [[  0,   0,   0],\n",
       "        [  0,   0,   0],\n",
       "        [  0,   0,   0],\n",
       "        ...,\n",
       "        [127, 127, 255],\n",
       "        [127, 127, 255],\n",
       "        [127, 127, 255]],\n",
       "\n",
       "       [[  0,   0,   0],\n",
       "        [  0,   0,   0],\n",
       "        [  0,   0,   0],\n",
       "        ...,\n",
       "        [127, 127, 255],\n",
       "        [127, 127, 255],\n",
       "        [127, 127, 255]],\n",
       "\n",
       "       ...,\n",
       "\n",
       "       [[  0,   0, 255],\n",
       "        [  0,   0, 255],\n",
       "        [  0,   0, 255],\n",
       "        ...,\n",
       "        [141,  54, 255],\n",
       "        [141,  54, 255],\n",
       "        [141,  54, 255]],\n",
       "\n",
       "       [[  0,   0, 255],\n",
       "        [  0,   0, 255],\n",
       "        [  0,   0, 255],\n",
       "        ...,\n",
       "        [141,  54, 255],\n",
       "        [141,  54, 255],\n",
       "        [141,  54, 255]],\n",
       "\n",
       "       [[  0,   0, 255],\n",
       "        [  0,   0, 255],\n",
       "        [  0,   0, 255],\n",
       "        ...,\n",
       "        [141,  54, 255],\n",
       "        [141,  54, 255],\n",
       "        [141,  54, 255]]], dtype=uint8)"
      ]
     },
     "execution_count": 3,
     "metadata": {},
     "output_type": "execute_result"
    }
   ],
   "source": [
    "image"
   ]
  },
  {
   "cell_type": "code",
   "execution_count": 4,
   "metadata": {},
   "outputs": [
    {
     "data": {
      "text/plain": [
       "180000"
      ]
     },
     "execution_count": 4,
     "metadata": {},
     "output_type": "execute_result"
    }
   ],
   "source": [
    "image.ravel().size"
   ]
  },
  {
   "cell_type": "code",
   "execution_count": 9,
   "metadata": {},
   "outputs": [
    {
     "data": {
      "image/png": "[encoded data removed]",
      "text/plain": [
       "<Figure size 640x480 with 1 Axes>"
      ]
     },
     "metadata": {},
     "output_type": "display_data"
    }
   ],
   "source": [
    "import matplotlib.pyplot as plt\n",
    "plt.hist(image.ravel(),bins=256,range=[0,255])\n",
    "plt.show()"
   ]
  },
  {
   "cell_type": "code",
   "execution_count": 13,
   "metadata": {},
   "outputs": [
    {
     "data": {
      "image/png": "[encoded data removed]",
      "text/plain": [
       "<Figure size 640x480 with 1 Axes>"
      ]
     },
     "metadata": {},
     "output_type": "display_data"
    }
   ],
   "source": [
    "colors=('r','g','b')\n",
    "imag_level=[image[:,:,0].ravel(),image[:,:,1].ravel(),image[:,:,2].ravel()]\n",
    "plt.hist(imag_level,color=colors,label=colors)\n",
    "plt.legend()\n",
    "plt.show()"
   ]
  }
 ],
 "metadata": {
  "kernelspec": {
   "display_name": "open_cv",
   "language": "python",
   "name": "python3"
  },
  "language_info": {
   "codemirror_mode": {
    "name": "ipython",
    "version": 3
   },
   "file_extension": ".py",
   "mimetype": "text/x-python",
   "name": "python",
   "nbconvert_exporter": "python",
   "pygments_lexer": "ipython3",
   "version": "3.8.19"
  }
 },
 "nbformat": 4,
 "nbformat_minor": 2
}
