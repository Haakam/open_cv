{
 "cells": [
  {
   "cell_type": "code",
   "execution_count": null,
   "metadata": {},
   "outputs": [],
   "source": []
  },
  {
   "cell_type": "code",
   "execution_count": 8,
   "metadata": {},
   "outputs": [],
   "source": [
    "import cv2\n",
    "import numpy as np\n",
    "def draw_circle(event,x,y,flag,param):\n",
    "    if(event==cv2.EVENT_LBUTTONDBLCLK):\n",
    "        cv2.circle(img,(x,y),15,(0,0,255),3)\n",
    "img=np.zeros((515,515,3),np.uint8)\n",
    "cv2.namedWindow('mouse window')\n",
    "cv2.setMouseCallback('mouse window',draw_circle) \n",
    "while True:\n",
    "    cv2.imshow('mouse window',img)\n",
    "    if cv2.waitKey(1)== ord('q'):\n",
    "        break\n",
    "cv2.destroyAllWindows()\n"
   ]
  }
 ],
 "metadata": {
  "kernelspec": {
   "display_name": "open_cv",
   "language": "python",
   "name": "python3"
  },
  "language_info": {
   "codemirror_mode": {
    "name": "ipython",
    "version": 3
   },
   "file_extension": ".py",
   "mimetype": "text/x-python",
   "name": "python",
   "nbconvert_exporter": "python",
   "pygments_lexer": "ipython3",
   "version": "3.8.19"
  }
 },
 "nbformat": 4,
 "nbformat_minor": 2
}
