{
 "cells": [
  {
   "cell_type": "code",
   "execution_count": 1,
   "metadata": {},
   "outputs": [],
   "source": [
    "import cv2\n",
    "import numpy as np\n",
    "\n",
    "path=r\"C:\\Users\\Mr\\Downloads\\images\\glass.png\"\n",
    "image = cv2.imread(path)\n",
    "\n",
    "# Convert to grayscale\n",
    "gray = cv2.cvtColor(image, cv2.COLOR_BGR2GRAY)\n",
    "\n",
    "# Apply GaussianBlur to reduce noise and improve edge detection\n",
    "blurred = cv2.GaussianBlur(gray, (5, 5), 0)\n",
    "\n",
    "# Apply Canny edge detector\n",
    "edges = cv2.Canny(blurred, 50, 150)\n",
    "\n",
    "# Display the results\n",
    "cv2.imshow('Original Image', image)\n",
    "cv2.imshow('Edges', edges)\n",
    "\n",
    "cv2.waitKey(0)\n",
    "cv2.destroyAllWindows()\n"
   ]
  },
  {
   "cell_type": "code",
   "execution_count": null,
   "metadata": {},
   "outputs": [],
   "source": []
  },
  {
   "cell_type": "code",
   "execution_count": 13,
   "metadata": {},
   "outputs": [],
   "source": [
    "import cv2\n",
    "import numpy as np\n",
    "path=r\"C:\\Users\\Mr\\Downloads\\images\\see.png\"\n",
    "image= cv2.imread(path)\n",
    "image=cv2.resize(image,(400,400))\n",
    "gry_image=cv2.cvtColor(image,cv2.COLOR_RGB2GRAY)\n",
    "\n",
    "gusi_image=cv2.GaussianBlur(gry_image,(3,3),0)\n",
    "cany_image=cv2.Canny(gusi_image,50,200)\n",
    "cv2.imshow(\"orignal\",image)\n",
    "cv2.imshow(\"image\",cany_image)\n",
    "cv2.waitKey(0)\n",
    "cv2.destroyAllWindows()\n"
   ]
  }
 ],
 "metadata": {
  "kernelspec": {
   "display_name": "open_cv",
   "language": "python",
   "name": "python3"
  },
  "language_info": {
   "codemirror_mode": {
    "name": "ipython",
    "version": 3
   },
   "file_extension": ".py",
   "mimetype": "text/x-python",
   "name": "python",
   "nbconvert_exporter": "python",
   "pygments_lexer": "ipython3",
   "version": "3.8.19"
  }
 },
 "nbformat": 4,
 "nbformat_minor": 2
}
