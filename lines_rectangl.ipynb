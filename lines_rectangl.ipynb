{
 "cells": [
  {
   "cell_type": "markdown",
   "metadata": {},
   "source": [
    "- Creating a canvas 500X500 (Three channels)\n",
    "- canvas = np.zeros((2,5,3))# in aray dot is used to show numpy using float data\n",
    "- canvas # first 2 shows number of array,5 shows number of rows and 3 shows number of col or - channel and 2*5 shows number of total elements\n",
    "- cv2.line(img: MatLike, pt1: Point, pt2: Point, color: Scalar, thickness: int = ..., - - -  - lineType: int = ..., shift: int = ...) -> MatLike"
   ]
  },
  {
   "cell_type": "code",
   "execution_count": 6,
   "metadata": {},
   "outputs": [],
   "source": [
    "import cv2\n",
    "import numpy as np\n",
    "\n",
    "# Create two images with different heights\n",
    "line1 = np.zeros((400, 500, 3), dtype=np.uint8)  # Black background, size 400x500\n",
    "line2 = np.zeros((500, 500, 3), dtype=np.uint8)  # Black background, size 500x500\n",
    "\n",
    "# Draw lines on each image\n",
    "cv2.line(line1, (0, 0), (500, 400), (0, 200, 0), 3, cv2.LINE_AA)  # Green line on line1\n",
    "cv2.line(line2, (0, 0), (500, 500), (0, 0, 255), 3, cv2.LINE_AA)  # Red line on line2\n",
    "\n",
    "# Resize line2 to match the height of line1\n",
    "desired_height = line1.shape[0]\n",
    "line2_resized = cv2.resize(line2, (line2.shape[1], desired_height))\n",
    "\n",
    "# Horizontally stack the images\n",
    "#canv = np.hstack([line1, line2_resized])\n",
    "canvas = np.zeros((400, 500, 3), dtype=np.uint8)\n",
    "rect=cv2.rectangle(canvas, (200,200), (300,270),(0,255,0),3)# -1 fill reactgle\n",
    "\n",
    "# Display the result\n",
    "cv2.imshow('Stacked Lines',rect )\n",
    "cv2.waitKey(0)\n",
    "cv2.destroyAllWindows()\n"
   ]
  },
  {
   "cell_type": "markdown",
   "metadata": {},
   "source": [
    "## drawing circle"
   ]
  },
  {
   "cell_type": "code",
   "execution_count": 10,
   "metadata": {},
   "outputs": [],
   "source": [
    "import cv2\n",
    "import numpy as np\n",
    "canvas=np.zeros((400,400,3))\n",
    "cv2.circle(canvas,(200,100),50,(255,0,0),3)\n",
    "cv2.imshow(\"window\",canvas)\n",
    "cv2.waitKey(0)\n",
    "cv2.destroyAllWindows()"
   ]
  },
  {
   "cell_type": "markdown",
   "metadata": {},
   "source": [
    "# Drawing a Arrowed line"
   ]
  },
  {
   "cell_type": "code",
   "execution_count": 1,
   "metadata": {},
   "outputs": [],
   "source": [
    "import cv2\n",
    "import numpy as np\n",
    "canvas=np.zeros((400,400,3))\n",
    "cv2.arrowedLine(canvas,(100,100),(300,300),(255,0,0),3,tipLength=0.3)\n",
    "cv2.imshow(\"window\",canvas)\n",
    "cv2.waitKey(0)\n",
    "cv2.destroyAllWindows()"
   ]
  },
  {
   "cell_type": "code",
   "execution_count": 7,
   "metadata": {},
   "outputs": [],
   "source": [
    "import cv2\n",
    "import numpy as np\n",
    "from datetime import datetime\n",
    "import time\n",
    "\n",
    "def draw_analog_clock(img, center, radius):\n",
    "    # Clear the image\n",
    "    img[:] = (0, 0, 0)\n",
    "    \n",
    "    color_white = (255, 255, 255)\n",
    "    color_red = (0, 0, 255)\n",
    "    \n",
    "    # Draw the clock face\n",
    "    cv2.circle(img, center, radius, color_white, 2)\n",
    "    \n",
    "    # Draw the clock ticks\n",
    "    for i in range(12):\n",
    "        angle = 2 * np.pi * i / 12\n",
    "        start_point = (int(center[0] + radius * 0.9 * np.sin(angle)),\n",
    "                       int(center[1] - radius * 0.9 * np.cos(angle)))\n",
    "        end_point = (int(center[0] + radius * 0.8 * np.sin(angle)),\n",
    "                     int(center[1] - radius * 0.8 * np.cos(angle)))\n",
    "        cv2.line(img, start_point, end_point, color_white, 2)\n",
    "    \n",
    "    # Get the current time\n",
    "    now = datetime.now()\n",
    "    hours = now.hour % 12\n",
    "    minutes = now.minute\n",
    "    seconds = now.second\n",
    "    \n",
    "    # Draw hour hand\n",
    "    hour_angle = 2 * np.pi * (hours + minutes / 60) / 12\n",
    "    hour_hand_end = (int(center[0] + radius * 0.5 * np.sin(hour_angle)),\n",
    "                     int(center[1] - radius * 0.5 * np.cos(hour_angle)))\n",
    "    cv2.line(img, center, hour_hand_end, color_white, 6)\n",
    "    \n",
    "    # Draw minute hand\n",
    "    minute_angle = 2 * np.pi * minutes / 60\n",
    "    minute_hand_end = (int(center[0] + radius * 0.7 * np.sin(minute_angle)),\n",
    "                       int(center[1] - radius * 0.7 * np.cos(minute_angle)))\n",
    "    cv2.line(img, center, minute_hand_end, color_white, 4)\n",
    "    \n",
    "    # Draw second hand\n",
    "    second_angle = 2 * np.pi * seconds / 60\n",
    "    second_hand_end = (int(center[0] + radius * 0.9 * np.sin(second_angle)),\n",
    "                       int(center[1] - radius * 0.9 * np.cos(second_angle)))\n",
    "    cv2.line(img, center, second_hand_end, color_red, 2)\n",
    "    \n",
    "    return img\n",
    "\n",
    "if __name__ == \"__main__\":\n",
    "    center = (250, 250)\n",
    "    radius = 200\n",
    "    img = np.zeros((500, 500, 3), dtype=np.uint8)\n",
    "    \n",
    "    while True:\n",
    "        img = draw_analog_clock(img, center, radius)\n",
    "        cv2.imshow('Analog Clock', img)\n",
    "        \n",
    "        # Wait for 1 second or until a key is pressed\n",
    "        if cv2.waitKey(1000) & 0xFF == 27:  # 27 is the ESC key\n",
    "            break\n",
    "    \n",
    "    cv2.destroyAllWindows()\n"
   ]
  },
  {
   "cell_type": "markdown",
   "metadata": {},
   "source": [
    "### The goal of interpolation is to estimate the pixel values at new locations based on the values of surrounding pixels."
   ]
  },
  {
   "cell_type": "code",
   "execution_count": 14,
   "metadata": {},
   "outputs": [],
   "source": [
    "import cv2\n",
    "image = cv2.imread(r\"C:\\Users\\Mr\\Downloads\\Video\\New folder\\girl.jpeg\")# you can also assign 0 value  resulst will in grey imag\n",
    "\n",
    "img=cv2.resize(image,(300,200))\n",
    "\n",
    "cv2.imshow('image',img)\n",
    "\n",
    "cv2.imwrite(\"girl.png\",img)\n",
    "cv2.waitKey(0)\n",
    "cv2.destroyAllWindows()\n"
   ]
  },
  {
   "cell_type": "markdown",
   "metadata": {},
   "source": [
    "## resizing image with interpolation"
   ]
  },
  {
   "cell_type": "code",
   "execution_count": null,
   "metadata": {},
   "outputs": [],
   "source": [
    "import cv2\n",
    "import numpy as np\n",
    "import matplotlib.pyplot as plt\n",
    "path=r\"C:\\Users\\Mr\\Downloads\\Video\\New folder\\girl.jpeg\"\n",
    "\n",
    "# Load an image\n",
    "image = cv2.imread(path)\n",
    "image = cv2.cvtColor(image, cv2.COLOR_BGR2RGB)  # Convert to RGB\n",
    "image=cv2.resize(image,(1280,900))\n",
    "\n",
    "# Define the new size\n",
    "new_size = (1280, 900)  # (width, height)\n",
    "\n",
    "# Resize using different interpolation methods\n",
    "nearest = cv2.resize(image, new_size, interpolation=cv2.INTER_NEAREST)\n",
    "bilinear = cv2.resize(image, new_size, interpolation=cv2.INTER_LINEAR)\n",
    "bicubic = cv2.resize(image, new_size, interpolation=cv2.INTER_CUBIC)\n",
    "lanczos = cv2.resize(image, new_size, interpolation=cv2.INTER_LANCZOS4)\n",
    "\n",
    "# Display the results\n",
    "titles = ['Original', 'Nearest', 'Bilinear', 'Bicubic', 'Lanczos']\n",
    "images = [image, nearest, bilinear, bicubic, lanczos]\n",
    "\n",
    "plt.figure(figsize=(15, 10))\n",
    "for i in range(5):\n",
    "    plt.subplot(2, 3, i + 1)\n",
    "    plt.imshow(images[i])\n",
    "    plt.title(titles[i])\n",
    "    plt.axis('off')\n",
    "plt.show()\n"
   ]
  },
  {
   "cell_type": "markdown",
   "metadata": {},
   "source": [
    "###  transformation involves moving every pixel in the image by a specified distance along the x-axis (horizontal shift) and the y-axis (vertical shift)"
   ]
  },
  {
   "cell_type": "markdown",
   "metadata": {},
   "source": [
    " - translation matrix is used in image processing to shift an image in the x or y direction. The translation matrix 𝑀.M is a 2x3 matrix used in affine transformations. The general form of the translation matrix is:\n",
    " - 𝑀=[1 0  𝑡𝑥      0 1  𝑡𝑦]"
   ]
  },
  {
   "cell_type": "code",
   "execution_count": 5,
   "metadata": {},
   "outputs": [],
   "source": [
    "import cv2\n",
    "import numpy as np\n",
    "\n",
    "#Loading image from memory\n",
    "path=r\"C:\\Users\\Mr\\Downloads\\images\\boy.jpeg\"\n",
    "image = cv2.imread(path)\n",
    "\n",
    "#Translation matrix\n",
    "#matrix = np.float32([[1,0,100],[0,1,100]])# translation x axis and y axis 100\n",
    "matrix=np.float32([[1,0,20],[0,1,100]])\n",
    "#Applying the matrix to the image \n",
    "translated = cv2.warpAffine(image, matrix, (image.shape[1]+100,image.shape[0]+100)) # two rows and three cols\n",
    "\n",
    "#Showing the image\n",
    "cv2.imshow('translation', translated)\n",
    "cv2.waitKey(0)\n",
    "cv2.destroyAllWindows()"
   ]
  },
  {
   "cell_type": "markdown",
   "metadata": {},
   "source": [
    "## totation image"
   ]
  },
  {
   "cell_type": "code",
   "execution_count": 10,
   "metadata": {},
   "outputs": [],
   "source": [
    "import cv2\n",
    "import numpy\n",
    "\n",
    "#Loading image from memory\n",
    "path=r\"C:\\Users\\Mr\\Downloads\\images\\boy.jpeg\"\n",
    "image = cv2.imread(path)\n",
    "\n",
    "height, width = image.shape[:2]# give two elements of touple which is height and width\n",
    "\n",
    "#Translation matrix cv2.getRotationMatrix2D(center,angle,scale)\n",
    "#matrix = cv2.getRotationMatrix2D((width/2,height/2), 10, 1)# no change in image,2 greater than orignal,0 t0 1 decrease\n",
    "#matrix = cv2.getRotationMatrix2D((width/2,height/2), 10, 0.4)\n",
    "matrix = cv2.getRotationMatrix2D((width/2,height/2), 10, 2)\n",
    "#Applying the matrix to the image \n",
    "translated = cv2.warpAffine(image, matrix, (width, height))\n",
    "\n",
    "#Showing the image\n",
    "cv2.imshow('translation', translated)\n",
    "cv2.waitKey(0)\n",
    "cv2.destroyAllWindows()"
   ]
  }
 ],
 "metadata": {
  "kernelspec": {
   "display_name": "open_cv",
   "language": "python",
   "name": "python3"
  },
  "language_info": {
   "codemirror_mode": {
    "name": "ipython",
    "version": 3
   },
   "file_extension": ".py",
   "mimetype": "text/x-python",
   "name": "python",
   "nbconvert_exporter": "python",
   "pygments_lexer": "ipython3",
   "version": "3.8.19"
  }
 },
 "nbformat": 4,
 "nbformat_minor": 2
}
