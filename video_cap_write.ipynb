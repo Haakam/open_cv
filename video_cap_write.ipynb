{
 "cells": [
  {
   "cell_type": "code",
   "execution_count": 13,
   "metadata": {},
   "outputs": [
    {
     "name": "stdout",
     "output_type": "stream",
     "text": [
      "frame per sec: 30.0\n"
     ]
    }
   ],
   "source": [
    "import cv2\n",
    "cap=cv2.VideoCapture(0)\n",
    "opened=cap.isOpened()\n",
    "fourcc=cv2.VideoWriter_fourcc(*'MJPG')\n",
    "height=cap.get(cv2.CAP_PROP_FRAME_HEIGHT)\n",
    "width=cap.get(cv2.CAP_PROP_FRAME_WIDTH)\n",
    "fps=cap.get(cv2.CAP_PROP_FPS)\n",
    "out = cv2.VideoWriter('my_vidio.avi', fourcc,fps ,(int(width), int(height)))\n",
    "print('frame per sec: {}'.format(fps))\n",
    "if(opened):\n",
    "    while(cap.isOpened()):\n",
    "        ret,frame=cap.read()\n",
    "        if(ret==True):\n",
    "           cv2.imshow('winname', frame)\n",
    "           out.write(frame)\n",
    "           if(cv2.waitKey(2)==27):# 27 is cod for escap key\n",
    "\t\t\t         break\n",
    "out.release()\n",
    "cap.release()\n",
    "cv2.destroyAllWindows()"
   ]
  },
  {
   "cell_type": "markdown",
   "metadata": {},
   "source": [
    "## drawing lines ,rectangle,circle,arrow line"
   ]
  },
  {
   "cell_type": "code",
   "execution_count": null,
   "metadata": {},
   "outputs": [],
   "source": [
    "\n",
    "import cv2\n",
    "import numpy as np\n",
    "\n",
    "#Creating a canvas 500X500 (Three channels)\n",
    "canvas = np.zeros((500,500,3))\n",
    "\n",
    "#Drawing a line\n",
    "cv2.line(canvas, (0,0), (100,100), (0,255,0),2, cv2.LINE_4)\n",
    "#line 4 and lin 8 - bresenham algo\n",
    "#line AA - Gausian filtering\n",
    "#Drawing a rectangle\n",
    "cv2.rectangle(canvas, (200,200), (250,270),(0,0,255),-1)\n",
    "#Drawing a Circle\n",
    "\n",
    "cv2.circle(canvas, (250,250), 10, (255,0,0),3)\n",
    "#Drawing a Arrowed line\n",
    "\n",
    "cv2.arrowedLine(canvas, (400,400), (400,500), (255,255,255), tipLength=0.3)\n",
    "\n",
    "#Showing the canvas\n",
    "cv2.imshow('winname', canvas)\n",
    "cv2.waitKey(20000)"
   ]
  }
 ],
 "metadata": {
  "kernelspec": {
   "display_name": "open_cv",
   "language": "python",
   "name": "python3"
  },
  "language_info": {
   "codemirror_mode": {
    "name": "ipython",
    "version": 3
   },
   "file_extension": ".py",
   "mimetype": "text/x-python",
   "name": "python",
   "nbconvert_exporter": "python",
   "pygments_lexer": "ipython3",
   "version": "3.8.19"
  }
 },
 "nbformat": 4,
 "nbformat_minor": 2
}
