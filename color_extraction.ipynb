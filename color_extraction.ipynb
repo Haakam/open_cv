{
 "cells": [
  {
   "cell_type": "markdown",
   "metadata": {},
   "source": [
    "## open cv works with bgr\n",
    "-he !pip install -q mediapipe command is used to quietly install the mediapipe library in a Jupyter Notebook or any IPython environment. The -q flag suppresses the output to make the installation process cleaner."
   ]
  },
  {
   "cell_type": "code",
   "execution_count": 3,
   "metadata": {},
   "outputs": [
    {
     "name": "stdout",
     "output_type": "stream",
     "text": [
      "(148, 270, 3)\n"
     ]
    }
   ],
   "source": [
    "import cv2 \n",
    "import numpy as np\n",
    "path=  r\"C:\\Users\\Mr\\Downloads\\images\\see2.png\"\n",
    "image=cv2.imread(path)\n",
    "print(image.shape)\n",
    "cv2.imshow(\" this is road\",image)\n",
    "cv2.waitKey(0)\n",
    "cv2.destroyAllWindows()"
   ]
  },
  {
   "cell_type": "code",
   "execution_count": 4,
   "metadata": {},
   "outputs": [],
   "source": [
    "grey_img=cv2.cvtColor(image,cv2.COLOR_BGR2GRAY)\n",
    "cv2.imshow(\" this is road\",grey_img)\n",
    "cv2.waitKey(0)\n",
    "cv2.destroyAllWindows()\n"
   ]
  },
  {
   "cell_type": "code",
   "execution_count": 5,
   "metadata": {},
   "outputs": [
    {
     "data": {
      "text/plain": [
       "array([[24, 25, 26, ..., 25, 26, 27],\n",
       "       [27, 27, 28, ..., 28, 28, 28],\n",
       "       [29, 30, 31, ..., 31, 31, 30],\n",
       "       ...,\n",
       "       [32, 28, 30, ..., 54, 39, 39],\n",
       "       [26, 24, 21, ..., 45, 29, 30],\n",
       "       [21, 22, 13, ..., 35, 19, 21]], dtype=uint8)"
      ]
     },
     "execution_count": 5,
     "metadata": {},
     "output_type": "execute_result"
    }
   ],
   "source": [
    "grey_img# 0 to 255 0 is black and 255 is whilte center values lies between these\n"
   ]
  },
  {
   "cell_type": "code",
   "execution_count": 6,
   "metadata": {},
   "outputs": [],
   "source": [
    "grey_img_copy=np.copy(grey_img)\n",
    "grey_img_copy[grey_img_copy[:,:] <20]=0\n",
    "cv2.imshow(\" this is road\",grey_img_copy)\n",
    "cv2.waitKey(0)\n",
    "cv2.destroyAllWindows()"
   ]
  },
  {
   "cell_type": "code",
   "execution_count": 7,
   "metadata": {},
   "outputs": [
    {
     "data": {
      "text/plain": [
       "array([[24, 25, 26, ..., 25, 26, 27],\n",
       "       [27, 27, 28, ..., 28, 28, 28],\n",
       "       [29, 30, 31, ..., 31, 31, 30],\n",
       "       ...,\n",
       "       [32, 28, 30, ..., 54, 39, 39],\n",
       "       [26, 24, 21, ..., 45, 29, 30],\n",
       "       [21, 22,  0, ..., 35,  0, 21]], dtype=uint8)"
      ]
     },
     "execution_count": 7,
     "metadata": {},
     "output_type": "execute_result"
    }
   ],
   "source": [
    "grey_img_copy"
   ]
  },
  {
   "cell_type": "code",
   "execution_count": 8,
   "metadata": {},
   "outputs": [
    {
     "data": {
      "text/plain": [
       "array([ 29,  32,  34,  35,  36,  37,  39,  41,  43,  46,  49,  51,  52,\n",
       "        54,  57,  60,  63,  72,  80,  81,  64,  30,   0,   0,   0,   0,\n",
       "         0,   0,   0,   0,   0,   0,   0,   0,   0,   0,   0,   0,   0,\n",
       "         0,   0,   0,   0,   0,   0,   0,   0,   0,   0,   0,  40,  74,\n",
       "        85,  55,   0,   0,   0,   0,   0,   0,   0,   0,   0,   0,   0,\n",
       "        22,  33,  36,  35,  33,  29,  25,  21,   0,   0,   0,   0,   0,\n",
       "         0,  48,  59,  57,  54,  42,  24,  84,  98,  47,  55,  69,  56,\n",
       "        93,   0, 135, 142, 120, 108,  80,  39,  30,  57,  72,  62,  52,\n",
       "        62,  64,  71,  79,  84,  84,  84,  85,  96,  72,  64,  70,  73,\n",
       "        78,  69,  47,  39,  49,  50,  37,  26,  25,  26,  25,  24,  31,\n",
       "        34,  23,  23,  34,  29,  20,  31,  34,  34,  30,  29,  30,  31,\n",
       "        29,  29,  27,  25,  25], dtype=uint8)"
      ]
     },
     "execution_count": 8,
     "metadata": {},
     "output_type": "execute_result"
    }
   ],
   "source": [
    "grey_img_copy[:,4]"
   ]
  },
  {
   "cell_type": "code",
   "execution_count": 9,
   "metadata": {},
   "outputs": [
    {
     "data": {
      "text/plain": [
       "(148, 270, 3)"
      ]
     },
     "execution_count": 9,
     "metadata": {},
     "output_type": "execute_result"
    }
   ],
   "source": [
    "img_cop= np.copy(image)\n",
    "img_cop.shape"
   ]
  },
  {
   "cell_type": "code",
   "execution_count": null,
   "metadata": {},
   "outputs": [],
   "source": [
    "import cv2\n",
    "import numpy as np\n",
    "\n",
    "path=  r\"C:\\Users\\Mr\\Downloads\\images\\see2.png\"\n",
    "image=cv2.imread(path)\n",
    "img_cop= np.copy(image)\n",
    "mask=img_cop[(img_cop[:,:,0]<50)|(img_cop[:,:,1]<50)|(img_cop[:,:,2]<89)]=255\n",
    "img_cp2=np.hstack(cv2.resize(image,(600,400)),cv2.resize(mask,(600,400)))\n",
    "cv2.imshow(\" this is road\",img_cp2)\n",
    "cv2.waitKey(0)\n",
    "cv2.destroyAllWindows()\n"
   ]
  },
  {
   "cell_type": "code",
   "execution_count": 22,
   "metadata": {},
   "outputs": [],
   "source": [
    "import cv2\n",
    "import numpy as np\n",
    "path = r\"C:\\Users\\Mr\\Downloads\\images\\see2.png\"\n",
    "image = cv2.imread(path)\n",
    "img_cop = np.copy(image)\n",
    "mask = (img_cop[:,:,0] < 50) | (img_cop[:,:,1] < 50) | (img_cop[:,:,2] < 50)\n",
    "\n",
    "img_cop[mask] = 255\n",
    "image_resized = cv2.resize(image, (600, 400))\n",
    "mask_resized = cv2.resize(img_cop, (600, 400))\n",
    "\n",
    "# Stack the original and masked images horizontally\n",
    "img_cp2 = np.hstack((image_resized, mask_resized))\n",
    "\n",
    "# Display the stacked image\n",
    "cv2.imshow(\"this is road\", img_cp2)\n",
    "cv2.waitKey(0)\n",
    "cv2.destroyAllWindows()\n"
   ]
  },
  {
   "cell_type": "code",
   "execution_count": 1,
   "metadata": {},
   "outputs": [],
   "source": [
    "import cv2\n",
    "import numpy as np\n",
    "path = r\"C:\\Users\\Mr\\Downloads\\images\\see.png\"\n",
    "image = cv2.imread(path)\n",
    "image=cv2.resize(image,(500,300))\n",
    "cv2.imshow(\"this is road\", image)\n",
    "cv2.waitKey(0)\n",
    "cv2.destroyAllWindows()\n"
   ]
  },
  {
   "cell_type": "markdown",
   "metadata": {},
   "source": [
    "## blure image using 3*3 kernal"
   ]
  },
  {
   "cell_type": "code",
   "execution_count": 5,
   "metadata": {},
   "outputs": [],
   "source": [
    "ones_mat_3_3 = np.ones((3, 3), dtype=np.float32)/9\n",
    "\n",
    "imag_blur_3_3=cv2.filter2D(image,-1,ones_mat_3_3)#-1 parameter in cv2.filter2D specifies that the depth (or number of channels) \n",
    "cv2.imshow(\"blur image 3*3\",imag_blur_3_3)\n",
    "cv2.imshow(\"orignal\",image)\n",
    "cv2.waitKey(0)\n",
    "cv2.destroyAllWindows()\n"
   ]
  },
  {
   "cell_type": "code",
   "execution_count": 6,
   "metadata": {},
   "outputs": [],
   "source": [
    "ones_mat_5_5 = np.ones((5, 5), dtype=np.float32)/25\n",
    "\n",
    "imag_blur_5_5=cv2.filter2D(image,-1,ones_mat_5_5)#-1 parameter in cv2.filter2D specifies that the depth (or number of channels) \n",
    "cv2.imshow(\"blur image 3*3\",imag_blur_3_3)\n",
    "cv2.imshow(\"orignal\",image)\n",
    "cv2.waitKey(0)\n",
    "cv2.destroyAllWindows()\n"
   ]
  },
  {
   "cell_type": "code",
   "execution_count": 7,
   "metadata": {},
   "outputs": [],
   "source": [
    "ones_mat_10 = np.ones((10, 10), dtype=np.float32)/100\n",
    "\n",
    "imag_blur_10=cv2.filter2D(image,-1,ones_mat_10)#-1 parameter in cv2.filter2D specifies that the depth (or number of channels) \n",
    "cv2.imshow(\"blur image 3*3\",imag_blur_10)\n",
    "cv2.imshow(\"orignal\",image)\n",
    "cv2.waitKey(0)\n",
    "cv2.destroyAllWindows()\n"
   ]
  },
  {
   "cell_type": "code",
   "execution_count": 10,
   "metadata": {},
   "outputs": [],
   "source": [
    "ones_mat_100 = np.ones((100, 100), dtype=np.float32)/10000\n",
    "\n",
    "imag_blur_100=cv2.filter2D(image,-1,ones_mat_100)#-1 parameter in cv2.filter2D specifies that the depth (or number of channels) \n",
    "cv2.imshow(\"blur image 3*3\",imag_blur_100)\n",
    "cv2.imshow(\"orignal\",image)\n",
    "cv2.waitKey(0)\n",
    "cv2.destroyAllWindows()\n"
   ]
  },
  {
   "cell_type": "markdown",
   "metadata": {},
   "source": [
    "## all  iamges in one sucreen"
   ]
  },
  {
   "cell_type": "code",
   "execution_count": 11,
   "metadata": {},
   "outputs": [],
   "source": [
    "\n",
    "\n",
    "import cv2\n",
    "import numpy as np\n",
    "\n",
    "# Load your image\n",
    "image = cv2.imread(path)\n",
    "\n",
    "# Function to create a blur kernel of a given size\n",
    "def create_blur_kernel(size):\n",
    "    return np.ones((size, size), dtype=np.float32) / (size * size)\n",
    "\n",
    "# List of kernel sizes for different blurs\n",
    "kernel_sizes = [3, 5, 7, 15, 25]\n",
    "\n",
    "# List to store the blurred images\n",
    "blurred_images = []\n",
    "\n",
    "# Apply different blurs to the image\n",
    "for size in kernel_sizes:\n",
    "    kernel = create_blur_kernel(size)\n",
    "    blurred_image = cv2.filter2D(image, -1, kernel)\n",
    "    blurred_images.append(blurred_image)\n",
    "\n",
    "# Concatenate images horizontally\n",
    "all_blurred = cv2.hconcat(blurred_images)\n",
    "\n",
    "# Display the concatenated image\n",
    "cv2.imshow('Blurred Images', all_blurred)\n",
    "cv2.waitKey(0)\n",
    "cv2.destroyAllWindows()\n"
   ]
  },
  {
   "cell_type": "markdown",
   "metadata": {},
   "source": [
    "## blur teachniques \n",
    "- averaging\n",
    "- Gaussian Blurring:reducing high-frequency noise.\n",
    "- Median Blurring:\n",
    "- Bilateral Filtering:\n",
    "  This technique is highly effective in noise removal while keeping edges sharp.\n",
    "- Box Filter:\n",
    "      This is similar to the averaging blur but allows the depth of the output image to be controlled."
   ]
  },
  {
   "cell_type": "code",
   "execution_count": 12,
   "metadata": {},
   "outputs": [],
   "source": [
    "import cv2\n",
    "import numpy as np\n",
    "path = r\"C:\\Users\\Mr\\Downloads\\images\\the.png\"\n",
    "image = cv2.imread(path)\n",
    "image=cv2.resize(image,(500,300))\n",
    "cv2.imshow(\"this is road\", image)\n",
    "cv2.waitKey(0)\n",
    "cv2.destroyAllWindows()\n"
   ]
  },
  {
   "cell_type": "markdown",
   "metadata": {},
   "source": [
    "# blur image with cv2.bure()"
   ]
  },
  {
   "cell_type": "code",
   "execution_count": 14,
   "metadata": {},
   "outputs": [],
   "source": [
    "blur_img=cv2.blur(image,(3,3))# you can apply this with different parameters\n",
    "cv2.imshow(\"this is road\", image)\n",
    "cv2.waitKey(0)\n",
    "cv2.destroyAllWindows()"
   ]
  },
  {
   "cell_type": "code",
   "execution_count": 18,
   "metadata": {},
   "outputs": [],
   "source": [
    "box_img=cv2.boxFilter(image,-1,(25,25),normalize=True)# you can apply this with different parameters\n",
    "cv2.imshow(\"this is road\", box_img)\n",
    "cv2.waitKey(0)\n",
    "cv2.destroyAllWindows()"
   ]
  },
  {
   "cell_type": "code",
   "execution_count": 19,
   "metadata": {},
   "outputs": [],
   "source": [
    "import cv2\n",
    "import numpy as np\n",
    "path = r\"C:\\Users\\Mr\\Downloads\\images\\boy.jpeg\"\n",
    "image = cv2.imread(path)\n",
    "image=cv2.resize(image,(500,300))\n",
    "cv2.imshow(\"this is road\", image)\n",
    "cv2.waitKey(0)\n",
    "cv2.destroyAllWindows()\n"
   ]
  },
  {
   "cell_type": "code",
   "execution_count": 26,
   "metadata": {},
   "outputs": [],
   "source": [
    "#imag_gu5=cv2.GaussianBlur(image,(5,5),0)# 0 is sigma value,It directly affects the amount of blurring applied to the image.\n",
    "#imag_gu7=cv2.GaussianBlur(image,(7,7),1)\n",
    "imag_gu9=cv2.GaussianBlur(image,(9,9),2)\n",
    "imag_gu11=cv2.GaussianBlur(image,(11,11),sigmaX=13,sigmaY=40)# sigma y strech image to y diretion\n",
    "#cv2.imshow(\"this is road\", imag_gu5)\n",
    "#cv2.imshow(\"this is road\", imag_gu7)\n",
    "#cv2.imshow(\"this is road\", imag_gu9)\n",
    "cv2.imshow(\"this is road\", imag_gu11)\n",
    "cv2.waitKey(0)\n",
    "cv2.destroyAllWindows()"
   ]
  }
 ],
 "metadata": {
  "kernelspec": {
   "display_name": "open_cv",
   "language": "python",
   "name": "python3"
  },
  "language_info": {
   "codemirror_mode": {
    "name": "ipython",
    "version": 3
   },
   "file_extension": ".py",
   "mimetype": "text/x-python",
   "name": "python",
   "nbconvert_exporter": "python",
   "pygments_lexer": "ipython3",
   "version": "3.8.19"
  }
 },
 "nbformat": 4,
 "nbformat_minor": 2
}
