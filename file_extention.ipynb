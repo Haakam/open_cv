{
 "cells": [
  {
   "cell_type": "markdown",
   "metadata": {},
   "source": [
    "## png image has lossless information and jpg or jpeg are compressed or lossy image\n",
    "#for format cv support\n",
    "#OpenCV can read and write:\n",
    "\n",
    "- JPEG (.jpg, .jpeg)\n",
    "- PNG (.png)\n",
    "- BMP (.bmp)\n",
    "- TIFF (.tiff, .tif)\n",
    "- WebP (.webp)\n",
    "- PPM, PGM, PBM (.ppm, .pgm, .pbm)\n",
    "- Sun Raster (.sr, .ras)\n",
    "- JPEG 2000 (.jp2)"
   ]
  },
  {
   "cell_type": "code",
   "execution_count": 1,
   "metadata": {},
   "outputs": [
    {
     "name": "stdout",
     "output_type": "stream",
     "text": [
      "640\n",
      "492\n"
     ]
    }
   ],
   "source": [
    "import cv2\n",
    "import numpy as np\n",
    "import time\n",
    "import random\n",
    "path=r\"C:\\Users\\Mr\\Downloads\\images\\fruit.png\"\n",
    "img=cv2.imread(path)\n",
    "img_cop=img.copy()\n",
    "img_width=img_cop.shape[1]\n",
    "img_height=img_cop.shape[0]\n",
    "print(img_width)\n",
    "print(img_height)\n",
    "for row_indx in range(img_height):\n",
    "    #if row_indx%2==0:\n",
    "    if row_indx%15==0:\n",
    "         for col_indx in range(random.randint(0,600)):\n",
    "               #if col_indx%2==0:\n",
    "               #if col_indx%5==0:\n",
    "                if col_indx%15==0:\n",
    "                   b_random=random.randint(0,255)\n",
    "                   g_random=random.randint(0,255)#g_random=np.random.randint(0,25) same funtion\n",
    "                   r_random=random.randint(0,255)\n",
    "                   img_cop[row_indx][col_indx]=np.array([b_random,r_random,g_random])\n",
    "                   \n",
    "cv2.imshow(\"image\",img_cop)\n",
    "cv2.waitKey(0)\n",
    "cv2.destroyAllWindows()\n"
   ]
  },
  {
   "cell_type": "code",
   "execution_count": 5,
   "metadata": {},
   "outputs": [
    {
     "name": "stdout",
     "output_type": "stream",
     "text": [
      "image is stored C:\\Users\\Mr\\Downloads\\images\\fruit2.png\n"
     ]
    }
   ],
   "source": [
    "path_to_save=r\"C:\\Users\\Mr\\Downloads\\images\\fruit2.png\"\n",
    "respn=cv2.imwrite(path_to_save,img_cop)\n",
    "if respn:\n",
    "    print(\"image is stored\",path_to_save)# use this method any file format can obtained"
   ]
  }
 ],
 "metadata": {
  "kernelspec": {
   "display_name": "open_cv",
   "language": "python",
   "name": "python3"
  },
  "language_info": {
   "codemirror_mode": {
    "name": "ipython",
    "version": 3
   },
   "file_extension": ".py",
   "mimetype": "text/x-python",
   "name": "python",
   "nbconvert_exporter": "python",
   "pygments_lexer": "ipython3",
   "version": "3.8.19"
  }
 },
 "nbformat": 4,
 "nbformat_minor": 2
}
