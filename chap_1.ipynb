{
 "cells": [
  {
   "cell_type": "code",
   "execution_count": 1,
   "metadata": {},
   "outputs": [
    {
     "data": {
      "text/plain": [
       "'3.8.19 (default, Mar 20 2024, 19:55:45) [MSC v.1916 64 bit (AMD64)]'"
      ]
     },
     "execution_count": 1,
     "metadata": {},
     "output_type": "execute_result"
    }
   ],
   "source": [
    "import sys\n",
    "sys.version"
   ]
  },
  {
   "cell_type": "code",
   "execution_count": 2,
   "metadata": {},
   "outputs": [
    {
     "name": "stdout",
     "output_type": "stream",
     "text": [
      " cv version 4.10.0\n"
     ]
    }
   ],
   "source": [
    "import cv2\n",
    "print(\" cv version\",cv2.__version__)"
   ]
  },
  {
   "cell_type": "code",
   "execution_count": 3,
   "metadata": {},
   "outputs": [],
   "source": [
    "import cv2\n",
    "image=cv2.imread(r\"C:\\\\Users\\\\Mr\\\\\\Downloads\\Video\\\\New folder\\\\girl.jpeg\")"
   ]
  },
  {
   "cell_type": "code",
   "execution_count": 5,
   "metadata": {},
   "outputs": [],
   "source": [
    "image = cv2.imread(r\"C:\\Users\\Mr\\Downloads\\Video\\New folder\\girl.jpeg\")\n"
   ]
  },
  {
   "cell_type": "code",
   "execution_count": 6,
   "metadata": {},
   "outputs": [],
   "source": [
    "if image is not None:\n",
    "    cv2.imshow('beautiful girl', image)\n",
    "    cv2.waitKey(0)\n",
    "    cv2.destroyAllWindows()\n",
    "else:\n",
    "    print(\"Error: Image not loaded.\")"
   ]
  },
  {
   "cell_type": "code",
   "execution_count": 7,
   "metadata": {},
   "outputs": [],
   "source": [
    "image = cv2.imread(r\"C:\\Users\\Mr\\Downloads\\Video\\New folder\\girl.jpeg\")\n",
    "\n",
    "img=cv2.resize(image,(300,200))"
   ]
  },
  {
   "cell_type": "code",
   "execution_count": 8,
   "metadata": {},
   "outputs": [],
   "source": [
    "cv2.imshow(\"my pic\",img)\n",
    "cv2.waitKey(0)\n",
    "cv2.destroyAllWindows()"
   ]
  },
  {
   "cell_type": "code",
   "execution_count": 11,
   "metadata": {},
   "outputs": [
    {
     "data": {
      "text/plain": [
       "['03.jpg', 'girl.jpeg', 'girl02.jpeg', 'rand_arry.png']"
      ]
     },
     "execution_count": 11,
     "metadata": {},
     "output_type": "execute_result"
    }
   ],
   "source": [
    "import os\n",
    "imag_name=os.listdir(\"C:\\\\Users\\\\Mr\\\\Downloads\\\\Video\\\\New folder\")\n",
    "imag_name\n"
   ]
  },
  {
   "cell_type": "code",
   "execution_count": 12,
   "metadata": {},
   "outputs": [],
   "source": [
    "imag_name=['03.jpg', 'girl.jpeg', 'girl02.jpeg']\n",
    "\n"
   ]
  },
  {
   "cell_type": "code",
   "execution_count": 13,
   "metadata": {},
   "outputs": [],
   "source": [
    "path =r\"C:\\Users\\Mr\\Downloads\\Video\\New folder\"\n",
    "for name in imag_name:\n",
    "    full_name = os.path.join(path, name)\n",
    "    #full_name=path + name\n",
    "    img=cv2.imread(full_name)\n",
    "    img=cv2.resize(img,(300,200))\n",
    "    cv2.imshow('girls',img)\n",
    "    cv2.waitKey(500)\n",
    "cv2.destroyAllWindows()\n"
   ]
  },
  {
   "cell_type": "markdown",
   "metadata": {},
   "source": [
    "## when we press enter image will be changed it depands on waitkey value"
   ]
  },
  {
   "cell_type": "code",
   "execution_count": 14,
   "metadata": {},
   "outputs": [],
   "source": [
    "import numpy as np\n",
    "path =r\"C:\\Users\\Mr\\Downloads\\Video\\New folder\"\n",
    "for name in imag_name:\n",
    "    full_name = os.path.join(path, name)\n",
    "    #full_name=path + name\n",
    "    img=cv2.imread(full_name)\n",
    "    img=cv2.resize(img,(300,200))\n",
    "    img_02=np.hstack((img))\n",
    "    img_03=np.vstack((img_02,img_02))\n",
    "    #img_02=np.hstack((img,img,img))\n",
    "    #img_03=np.vstack((img_02,img_02,img_02))\n",
    "    cv2.imshow('girls',img_03)\n",
    "    cv2.waitKey(0)\n",
    "cv2.destroyAllWindows()\n"
   ]
  },
  {
   "cell_type": "markdown",
   "metadata": {},
   "source": [
    "# vedio play\n"
   ]
  },
  {
   "cell_type": "code",
   "execution_count": 15,
   "metadata": {},
   "outputs": [],
   "source": [
    "import numpy as np\n",
    "import cv2"
   ]
  },
  {
   "cell_type": "code",
   "execution_count": 16,
   "metadata": {},
   "outputs": [],
   "source": [
    "video_path1=r\"C:\\\\Users\\\\Mr\\Downloads\\\\Video\\\\correlation Matrix .mp4\""
   ]
  },
  {
   "cell_type": "code",
   "execution_count": 17,
   "metadata": {},
   "outputs": [],
   "source": [
    "video_path2=r\"C:\\\\Users\\\\Mr\\\\Downloads\\\\Video\\excel tips11.mp4\""
   ]
  },
  {
   "cell_type": "code",
   "execution_count": 18,
   "metadata": {},
   "outputs": [],
   "source": [
    "cap = cv2.VideoCapture(0)# when you write 0 for your camera 1 or -1 for secondary camera or write name of camera\n",
    "while cap.isOpened():\n",
    "     ret,frame=cap.read()\n",
    "     if ret:\n",
    "          img=cv2.resize(frame,(300,200))\n",
    "          cv2.imshow(\"frame\",img)\n",
    "          if cv2.waitKey(25) & 0xff==ord('q'):\n",
    "               break\n",
    "          \n",
    "     else:\n",
    "          break\n",
    "cap.release()\n",
    "cv2.destroyAllWindows()\n",
    "     "
   ]
  },
  {
   "cell_type": "markdown",
   "metadata": {},
   "source": [
    "## single vedio playing"
   ]
  },
  {
   "cell_type": "code",
   "execution_count": null,
   "metadata": {},
   "outputs": [],
   "source": [
    "cap = cv2.VideoCapture(video_path2)\n",
    "while cap.isOpened():\n",
    "     ret,frame=cap.read()\n",
    "     if ret:\n",
    "          img=cv2.resize(frame,(300,200))\n",
    "          cv2.imshow(\"frame\",img)\n",
    "          if cv2.waitKey(25) & 0xff==ord('q'):\n",
    "               break\n",
    "          \n",
    "     else:\n",
    "          break\n",
    "cap.release()\n",
    "cv2.destroyAllWindows()\n",
    "     "
   ]
  },
  {
   "cell_type": "markdown",
   "metadata": {},
   "source": [
    "## vedios camera pic paly in single window"
   ]
  },
  {
   "cell_type": "code",
   "execution_count": 17,
   "metadata": {},
   "outputs": [],
   "source": [
    "import numpy as np\n",
    "import cv2\n",
    "\n",
    "video_path1 = r\"C:\\Users\\Mr\\Downloads\\Video\\correlation Matrix .mp4\"\n",
    "video_path2 = r\"C:\\Users\\Mr\\Downloads\\Video\\excel tips11.mp4\"\n",
    "path = r\"C:\\Users\\Mr\\Downloads\\Video\\New folder\"\n",
    "imag_name = \"girl.jpeg\"\n",
    "\n",
    "cap1 = cv2.VideoCapture(video_path2)\n",
    "cap2 = cv2.VideoCapture(video_path1)\n",
    "cap3 = cv2.VideoCapture(0)\n",
    "\n",
    "while cap1.isOpened() and cap2.isOpened() and cap3.isOpened():\n",
    "    ret1, frame1 = cap1.read()\n",
    "    ret2, frame2 = cap2.read()\n",
    "    ret3, c_frame = cap3.read()\n",
    "\n",
    "    if ret1 and ret2 and ret3:\n",
    "        frame1_resized = cv2.resize(frame1, (300, 200))\n",
    "        frame2_resized = cv2.resize(frame2, (300, 200))\n",
    "        c_frame_resized = cv2.resize(c_frame, (300, 200))\n",
    "        \n",
    "        img_gil = cv2.imread(path + '\\\\' + imag_name)\n",
    "        gil_img_resized = cv2.resize(img_gil, (300, 200))\n",
    "\n",
    "        frame_first = np.vstack((frame1_resized, frame2_resized))\n",
    "        frame_2nd = np.vstack((c_frame_resized, gil_img_resized))\n",
    "        frame_ful = np.hstack((frame_first, frame_2nd))\n",
    "\n",
    "        cv2.imshow(\"frame\", frame_ful)\n",
    "        \n",
    "        if cv2.waitKey(25) & 0xFF == ord('q'):\n",
    "            break\n",
    "    else:\n",
    "        break\n",
    "\n",
    "cap1.release()\n",
    "cap2.release()\n",
    "cap3.release()\n",
    "cv2.destroyAllWindows()\n"
   ]
  },
  {
   "cell_type": "markdown",
   "metadata": {},
   "source": [
    "## imread() patameters"
   ]
  },
  {
   "cell_type": "code",
   "execution_count": 25,
   "metadata": {},
   "outputs": [
    {
     "name": "stdout",
     "output_type": "stream",
     "text": [
      "[[[221 213 200]\n",
      "  [221 213 200]\n",
      "  [221 213 200]\n",
      "  ...\n",
      "  [223 218 209]\n",
      "  [223 218 209]\n",
      "  [223 218 209]]\n",
      "\n",
      " [[221 213 200]\n",
      "  [221 213 200]\n",
      "  [221 213 200]\n",
      "  ...\n",
      "  [223 218 209]\n",
      "  [223 218 209]\n",
      "  [223 218 209]]\n",
      "\n",
      " [[221 213 200]\n",
      "  [221 213 200]\n",
      "  [221 213 200]\n",
      "  ...\n",
      "  [224 219 210]\n",
      "  [224 219 210]\n",
      "  [224 219 210]]\n",
      "\n",
      " ...\n",
      "\n",
      " [[ 88 106 117]\n",
      "  [ 86 105 113]\n",
      "  [ 86 105 112]\n",
      "  ...\n",
      "  [ 48  68  73]\n",
      "  [ 51  70  77]\n",
      "  [ 51  70  77]]\n",
      "\n",
      " [[ 96 114 125]\n",
      "  [ 97 116 124]\n",
      "  [102 121 127]\n",
      "  ...\n",
      "  [ 47  66  73]\n",
      "  [ 50  69  76]\n",
      "  [ 50  69  77]]\n",
      "\n",
      " [[ 96 115 118]\n",
      "  [ 94 113 116]\n",
      "  [ 98 117 120]\n",
      "  ...\n",
      "  [ 48  67  80]\n",
      "  [ 56  75  88]\n",
      "  [ 52  71  84]]]\n"
     ]
    }
   ],
   "source": [
    "import cv2\n",
    "image = cv2.imread(r\"C:\\Users\\Mr\\Downloads\\Video\\New folder\\girl.jpeg\",1)# you can also assign 1 value  resulst will be same colorful imag\n",
    "\n",
    "img=cv2.resize(image,(300,200))\n",
    "\n",
    "cv2.imshow('image',img)\n",
    "print(img)\n",
    "cv2.waitKey(0)\n",
    "cv2.destroyAllWindows()\n"
   ]
  },
  {
   "cell_type": "markdown",
   "metadata": {},
   "source": [
    "## grey scal image\n",
    "- Reading Images with Transparency: If your image contains an alpha channel for transparency (e.g., PNG images), using -1 ensures that this information is not discarded."
   ]
  },
  {
   "cell_type": "code",
   "execution_count": 28,
   "metadata": {},
   "outputs": [
    {
     "name": "stdout",
     "output_type": "stream",
     "text": [
      "(200, 300)\n",
      "[[210 210 210 ... 216 216 216]\n",
      " [210 210 210 ... 216 216 216]\n",
      " [210 210 210 ... 217 217 217]\n",
      " ...\n",
      " [107 105 105 ...  67  70  70]\n",
      " [115 116 121 ...  66  69  69]\n",
      " [114 112 116 ...  69  77  73]]\n"
     ]
    }
   ],
   "source": [
    "import cv2\n",
    "image = cv2.imread(r\"C:\\Users\\Mr\\Downloads\\Video\\New folder\\girl.jpeg\",0)# you can also assign 0 value  resulst will in grey imag\n",
    "\n",
    "img=cv2.resize(image,(300,200))\n",
    "\n",
    "cv2.imshow('image',img)\n",
    "print(img.shape)\n",
    "print(img)\n",
    "cv2.waitKey(0)\n",
    "cv2.destroyAllWindows()\n"
   ]
  },
  {
   "cell_type": "markdown",
   "metadata": {},
   "source": [
    "## saving image"
   ]
  },
  {
   "cell_type": "code",
   "execution_count": 11,
   "metadata": {},
   "outputs": [],
   "source": [
    "import numpy as np\n",
    "import cv2\n",
    "import os\n",
    "rand_array=np.random.randint(255,size=(300,400,3))\n",
    "cv2.imwrite(r\"C:\\\\Users\\\\Mr\\Downloads\\\\Video\\\\New folder\\\\rand_arry.png\",rand_array)#jpg and png both support this fuction\n",
    "img=cv2.imread(r\"C:\\\\Users\\\\Mr\\Downloads\\\\Video\\\\New folder\\\\rand_arry.png\")\n",
    "cv2.imshow(\"my image\",img)\n",
    "cv2.waitKey(0)\n",
    "cv2.destroyAllWindows()\n"
   ]
  },
  {
   "cell_type": "markdown",
   "metadata": {},
   "source": [
    "## we save an image with different format we can also develo a software to change the format of iamge"
   ]
  },
  {
   "cell_type": "code",
   "execution_count": 13,
   "metadata": {},
   "outputs": [],
   "source": [
    "import cv2\n",
    "image = cv2.imread(r\"C:\\Users\\Mr\\Downloads\\Video\\New folder\\girl.jpeg\")# you can also assign 0 value  resulst will in grey imag\n",
    "\n",
    "img=cv2.resize(image,(300,200))\n",
    "\n",
    "cv2.imshow('image',img)\n",
    "\n",
    "cv2.imwrite(\"girl.png\",img)\n",
    "cv2.waitKey(0)\n",
    "cv2.destroyAllWindows()\n"
   ]
  },
  {
   "cell_type": "markdown",
   "metadata": {},
   "source": [
    "## capture and save image from video"
   ]
  },
  {
   "cell_type": "code",
   "execution_count": null,
   "metadata": {},
   "outputs": [],
   "source": [
    "import os\n",
    "import cv2\n",
    "\n",
    "path_video = r\"C:\\Users\\Mr\\Downloads\\Video\\excel tips11.mp4\"\n",
    "directory = \"Vedio_to_img\"\n",
    "\n",
    "# Create the directory if it doesn't exist\n",
    "os.makedirs(directory, exist_ok=True)\n",
    "\n",
    "cap = cv2.VideoCapture(path_video)\n",
    "img_count = 1\n",
    "\n",
    "while cap.isOpened():\n",
    "    ret, frame = cap.read()  # Read the next frame from the video\n",
    "    if not ret:\n",
    "        print(\"Frame is not being read\")\n",
    "        break\n",
    "\n",
    "    img_path = os.path.join(directory, f\"image{img_count}.jpeg\")\n",
    "    is_img_written = cv2.imwrite(img_path, frame)\n",
    "    if is_img_written:\n",
    "        print(f\"Image {img_count} is saved in folder\")\n",
    "\n",
    "    cv2.imshow('Video', frame)\n",
    "    if cv2.waitKey(25) & 0xFF == ord('q'):\n",
    "        break\n",
    "\n",
    "    img_count += 1\n",
    "\n",
    "cap.release()\n",
    "cv2.destroyAllWindows()\n"
   ]
  },
  {
   "cell_type": "markdown",
   "metadata": {},
   "source": [
    "## creating video from numpy array"
   ]
  },
  {
   "cell_type": "code",
   "execution_count": 24,
   "metadata": {},
   "outputs": [],
   "source": [
    "import numpy as np\n",
    "import cv2\n",
    "import os\n",
    "height=700\n",
    "width=1280\n",
    "channel=3\n",
    "fps=30\n",
    "sec=5\n",
    "fourcc=cv2.VideoWriter_fourcc(*'MP42')\n",
    "video=cv2.VideoWriter(\"vedio.mp4\",fourcc,float(fps),(width,height))\n",
    "for frame_count in range(fps*sec):\n",
    "    img=np.random.randint(0,255,(height,width,channel),dtype=np.uint8)\n",
    "    video.write(img)\n",
    "video.release()"
   ]
  },
  {
   "cell_type": "markdown",
   "metadata": {},
   "source": [
    "## creating video from images"
   ]
  },
  {
   "cell_type": "code",
   "execution_count": 31,
   "metadata": {},
   "outputs": [],
   "source": [
    "import numpy as np\n",
    "import cv2\n",
    "import os\n",
    "height=700\n",
    "width=1280\n",
    "channel=3\n",
    "fps=10\n",
    "sec=5\n",
    "fourcc=cv2.VideoWriter_fourcc(*'MP42')\n",
    "video=cv2.VideoWriter(\"testing.mp4\",fourcc,float(fps),(width,height))\n",
    "#for frame_count in range(fps*sec):\n",
    "   # img=np.random.randint(0,255,(height,width,channel),dtype=np.uint8)\n",
    "    #video.write(img)\n",
    "drictry=r\"C:\\Users\\Mr\\Downloads\\images\"\n",
    "img_name_list=os.listdir(drictry)\n",
    "for frame_count in range(fps*sec):\n",
    "    img_name=np.random.choice(img_name_list)\n",
    "    img_path=os.path.join(drictry,img_name)\n",
    "    img=cv2.imread(img_path)\n",
    "    img_resiz=cv2.resize(img,(width,height))\n",
    "    video.write( img_resiz)\n",
    "\n",
    "video.release()"
   ]
  }
 ],
 "metadata": {
  "kernelspec": {
   "display_name": "open_cv",
   "language": "python",
   "name": "python3"
  },
  "language_info": {
   "codemirror_mode": {
    "name": "ipython",
    "version": 3
   },
   "file_extension": ".py",
   "mimetype": "text/x-python",
   "name": "python",
   "nbconvert_exporter": "python",
   "pygments_lexer": "ipython3",
   "version": "3.8.19"
  }
 },
 "nbformat": 4,
 "nbformat_minor": 2
}
