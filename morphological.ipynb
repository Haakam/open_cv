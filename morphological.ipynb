{
 "cells": [
  {
   "cell_type": "code",
   "execution_count": null,
   "metadata": {},
   "outputs": [],
   "source": [
    "import cv2\n",
    "import numpy as np\n"
   ]
  },
  {
   "cell_type": "markdown",
   "metadata": {},
   "source": [
    "## morphological operation\n",
    "- erosion\n",
    "- dilation\n",
    "- opening\n",
    "- closing\n",
    "- morphological gradient\n",
    "- top hat\n",
    "- black hat\n",
    "\n"
   ]
  },
  {
   "cell_type": "markdown",
   "metadata": {},
   "source": [
    "### in erosion method white pixel will decrese removal of noise\n",
    "### object will shrink"
   ]
  },
  {
   "cell_type": "code",
   "execution_count": 13,
   "metadata": {},
   "outputs": [],
   "source": [
    "path=r\"C:\\Users\\Mr\\Downloads\\images\\the.png\"\n",
    "image=cv2.imread(path,0)# load image in gray scale\n",
    "image=cv2.resize(image,(500,300))\n",
    "kernel = np.ones((7, 7), np.uint8)# filter\n",
    "eroded_image = cv2.erode(image, kernel, iterations=1)\n",
    "act_erod_img=np.hstack((image,eroded_image))\n",
    "cv2.imshow(\"this is orginal\",act_erod_img)\n",
    "cv2.waitKey(0)\n",
    "cv2.destroyAllWindows()\n"
   ]
  },
  {
   "cell_type": "markdown",
   "metadata": {},
   "source": [
    "## dilation oposit to erosion\n",
    "## it increase white pixels"
   ]
  },
  {
   "cell_type": "code",
   "execution_count": null,
   "metadata": {},
   "outputs": [],
   "source": []
  },
  {
   "cell_type": "markdown",
   "metadata": {},
   "source": [
    "import cv2\n",
    "import numpy as np\n",
    "\n",
    "path=r\"C:\\Users\\Mr\\Downloads\\images\\the.png\"\n",
    "image=cv2.imread(path,0)# load image in gray scale\n",
    "image=cv2.resize(image,(500,300))\n",
    "kernel = np.ones((7, 7), np.uint8)# filter\n",
    "dilat_image = cv2.dilate(image, kernel, iterations=1)\n",
    "act_dilat_img=np.hstack((image,dilat_image))\n",
    "cv2.imshow(\"this is orginal\",act_dilat_img)\n",
    "cv2.waitKey(0)\n",
    "cv2.destroyAllWindows()\n"
   ]
  },
  {
   "cell_type": "code",
   "execution_count": 4,
   "metadata": {},
   "outputs": [
    {
     "name": "stdout",
     "output_type": "stream",
     "text": [
      "(492, 640, 3)\n"
     ]
    }
   ],
   "source": [
    "import cv2\n",
    "import numpy as np\n",
    "path=r\"C:\\Users\\Mr\\Downloads\\images\\fruit.png\"\n",
    "imag=cv2.imread(path)\n",
    "print(imag.shape)\n",
    "imag=cv2.resize(imag,(int(imag.shape[1]*0.5),int(imag.shape[0] * 0.5)))# for half oixels of iamg\n",
    "\n",
    "cv2.imshow(\"window\",imag)\n",
    "cv2.waitKey(0)\n",
    "cv2.destroyAllWindows()"
   ]
  },
  {
   "cell_type": "code",
   "execution_count": 4,
   "metadata": {},
   "outputs": [
    {
     "data": {
      "text/plain": [
       "(246, 320, 3)"
      ]
     },
     "execution_count": 4,
     "metadata": {},
     "output_type": "execute_result"
    }
   ],
   "source": [
    "imag.shape"
   ]
  },
  {
   "cell_type": "code",
   "execution_count": 5,
   "metadata": {},
   "outputs": [
    {
     "data": {
      "text/plain": [
       "78720"
      ]
     },
     "execution_count": 5,
     "metadata": {},
     "output_type": "execute_result"
    }
   ],
   "source": [
    "246*320 #total pixels,rows of image is height and cols are width"
   ]
  },
  {
   "cell_type": "code",
   "execution_count": 6,
   "metadata": {},
   "outputs": [
    {
     "data": {
      "text/plain": [
       "236160"
      ]
     },
     "execution_count": 6,
     "metadata": {},
     "output_type": "execute_result"
    }
   ],
   "source": [
    "imag.size"
   ]
  },
  {
   "cell_type": "markdown",
   "metadata": {},
   "source": [
    "## access single pixel"
   ]
  },
  {
   "cell_type": "code",
   "execution_count": 7,
   "metadata": {},
   "outputs": [
    {
     "data": {
      "text/plain": [
       "array([0, 0, 0], dtype=uint8)"
      ]
     },
     "execution_count": 7,
     "metadata": {},
     "output_type": "execute_result"
    }
   ],
   "source": [
    "imag[0,0]"
   ]
  },
  {
   "cell_type": "code",
   "execution_count": 8,
   "metadata": {},
   "outputs": [
    {
     "data": {
      "text/plain": [
       "(0, 0, 0)"
      ]
     },
     "execution_count": 8,
     "metadata": {},
     "output_type": "execute_result"
    }
   ],
   "source": [
    "imag[0,0,0],imag[0,0,1],imag[0,0,2]# access channels"
   ]
  },
  {
   "cell_type": "code",
   "execution_count": 9,
   "metadata": {},
   "outputs": [
    {
     "data": {
      "text/plain": [
       "0"
      ]
     },
     "execution_count": 9,
     "metadata": {},
     "output_type": "execute_result"
    }
   ],
   "source": [
    "imag[0,0,2]"
   ]
  },
  {
   "cell_type": "code",
   "execution_count": 10,
   "metadata": {},
   "outputs": [
    {
     "data": {
      "text/plain": [
       "array([0, 0, 0], dtype=uint8)"
      ]
     },
     "execution_count": 10,
     "metadata": {},
     "output_type": "execute_result"
    }
   ],
   "source": [
    "imag[0][0]# access zero and at 0 pont"
   ]
  },
  {
   "cell_type": "code",
   "execution_count": 5,
   "metadata": {},
   "outputs": [
    {
     "data": {
      "text/plain": [
       "array([  0, 141, 224], dtype=uint8)"
      ]
     },
     "execution_count": 5,
     "metadata": {},
     "output_type": "execute_result"
    }
   ],
   "source": [
    "imag[130,120]"
   ]
  },
  {
   "cell_type": "markdown",
   "metadata": {},
   "source": [
    "## showing single pixel as an image"
   ]
  },
  {
   "cell_type": "code",
   "execution_count": 7,
   "metadata": {},
   "outputs": [],
   "source": [
    "cv2.imshow(\"window\",imag[130,120])\n",
    "cv2.waitKey(0)\n",
    "cv2.destroyAllWindows()"
   ]
  },
  {
   "cell_type": "markdown",
   "metadata": {},
   "source": [
    "## acess single row"
   ]
  },
  {
   "cell_type": "code",
   "execution_count": null,
   "metadata": {},
   "outputs": [],
   "source": [
    "imag[100]# access single row at 100 index "
   ]
  },
  {
   "cell_type": "code",
   "execution_count": 13,
   "metadata": {},
   "outputs": [
    {
     "data": {
      "text/plain": [
       "array([[  0,   0,   0],\n",
       "       [  0,   0,   0],\n",
       "       [  0,   0,   0],\n",
       "       [  0,   0,   0],\n",
       "       [  0,   0,   0],\n",
       "       [  0,   0,   0],\n",
       "       [  0,   0,   0],\n",
       "       [  0,   0,   0],\n",
       "       [  0,   0,   0],\n",
       "       [ 16, 123, 121],\n",
       "       [ 12, 194, 255],\n",
       "       [  0, 177, 250],\n",
       "       [  0, 182, 252],\n",
       "       [ 11, 189, 249],\n",
       "       [ 43, 207, 244],\n",
       "       [ 93, 223, 244],\n",
       "       [ 91, 225, 244],\n",
       "       [ 99, 226, 244],\n",
       "       [108, 228, 243],\n",
       "       [137, 229, 240],\n",
       "       [158, 230, 239],\n",
       "       [159, 227, 235],\n",
       "       [146, 222, 231],\n",
       "       [169, 225, 234],\n",
       "       [126, 202, 233],\n",
       "       [ 56, 184, 237],\n",
       "       [ 54, 170, 230],\n",
       "       [  0, 139, 227],\n",
       "       [  9, 134, 229],\n",
       "       [ 61, 147, 234],\n",
       "       [191, 207, 241],\n",
       "       [248, 240, 245],\n",
       "       [220, 234, 254],\n",
       "       [187, 215, 252],\n",
       "       [167, 199, 252],\n",
       "       [105, 172, 243],\n",
       "       [  6, 147, 230],\n",
       "       [  0, 140, 224],\n",
       "       [  0, 137, 223],\n",
       "       [ 12, 141, 223],\n",
       "       [116, 195, 245],\n",
       "       [190, 224, 255],\n",
       "       [ 87, 190, 244],\n",
       "       [ 69, 176, 243],\n",
       "       [ 95, 173, 243],\n",
       "       [122, 188, 249],\n",
       "       [ 88, 168, 248],\n",
       "       [ 77, 165, 245],\n",
       "       [ 84, 170, 246],\n",
       "       [ 85, 170, 243],\n",
       "       [123, 196, 254],\n",
       "       [ 78, 179, 243],\n",
       "       [ 27, 162, 232],\n",
       "       [  0, 157, 236],\n",
       "       [ 51, 164, 230],\n",
       "       [148, 206, 249],\n",
       "       [ 41, 174, 244],\n",
       "       [ 54, 185, 248],\n",
       "       [124, 209, 245],\n",
       "       [ 89, 172, 246],\n",
       "       [ 42, 163, 240],\n",
       "       [  0, 148, 230],\n",
       "       [ 20, 159, 237],\n",
       "       [  0, 155, 230],\n",
       "       [ 26, 172, 242],\n",
       "       [ 42, 177, 240],\n",
       "       [ 16, 164, 234],\n",
       "       [137, 202, 250],\n",
       "       [ 48, 165, 239],\n",
       "       [  0, 143, 225],\n",
       "       [ 55, 179, 247],\n",
       "       [ 43, 160, 234],\n",
       "       [ 57, 181, 244],\n",
       "       [ 13, 153, 234],\n",
       "       [ 12, 165, 239],\n",
       "       [ 46, 169, 244],\n",
       "       [116, 210, 242],\n",
       "       [  0, 156, 241],\n",
       "       [209, 225, 244],\n",
       "       [150, 209, 249],\n",
       "       [ 86, 167, 246],\n",
       "       [ 26, 147, 233],\n",
       "       [  5, 179, 239],\n",
       "       [ 13, 183, 243],\n",
       "       [  0, 168, 233],\n",
       "       [  0, 158, 232],\n",
       "       [  0, 164, 237],\n",
       "       [  0, 167, 238],\n",
       "       [ 26, 171, 243],\n",
       "       [101, 204, 251],\n",
       "       [ 94, 196, 248],\n",
       "       [124, 203, 248],\n",
       "       [  8, 176, 245],\n",
       "       [  0, 172, 238],\n",
       "       [  0, 168, 237],\n",
       "       [  0, 159, 238],\n",
       "       [138, 201, 241],\n",
       "       [ 71, 170, 238],\n",
       "       [ 18, 159, 239],\n",
       "       [  0, 144, 230],\n",
       "       [  0, 159, 240],\n",
       "       [ 69, 196, 240],\n",
       "       [183, 219, 247],\n",
       "       [ 12, 156, 234],\n",
       "       [  0, 141, 225],\n",
       "       [ 38, 150, 229],\n",
       "       [ 71, 172, 242],\n",
       "       [  0, 144, 220],\n",
       "       [  0, 147, 230],\n",
       "       [  0, 137, 220],\n",
       "       [  0, 148, 227],\n",
       "       [ 43, 147, 228],\n",
       "       [ 86, 169, 241],\n",
       "       [ 90, 193, 247],\n",
       "       [ 79, 184, 237],\n",
       "       [ 29, 170, 237],\n",
       "       [ 40, 175, 246],\n",
       "       [ 97, 186, 253],\n",
       "       [146, 197, 249],\n",
       "       [ 56, 151, 237],\n",
       "       [  0, 132, 219],\n",
       "       [ 13, 155, 231],\n",
       "       [  2, 157, 237],\n",
       "       [  6, 151, 227],\n",
       "       [ 49, 163, 232],\n",
       "       [  0, 153, 232],\n",
       "       [ 25, 150, 225],\n",
       "       [ 89, 187, 250],\n",
       "       [  5, 168, 229],\n",
       "       [ 21, 172, 234],\n",
       "       [ 14, 170, 236],\n",
       "       [  0, 167, 233],\n",
       "       [  0, 157, 229],\n",
       "       [  0, 153, 227],\n",
       "       [  0, 151, 233],\n",
       "       [ 11, 151, 224],\n",
       "       [ 33, 187, 232],\n",
       "       [  4, 161, 228],\n",
       "       [  0, 159, 227],\n",
       "       [  0, 166, 234],\n",
       "       [ 20, 171, 236],\n",
       "       [ 41, 175, 242],\n",
       "       [ 32, 175, 241],\n",
       "       [ 41, 177, 244],\n",
       "       [ 14, 163, 240],\n",
       "       [ 27, 166, 236],\n",
       "       [129, 190, 244],\n",
       "       [ 16, 145, 226],\n",
       "       [ 23, 167, 243],\n",
       "       [ 37, 171, 235],\n",
       "       [  0, 151, 233],\n",
       "       [ 19, 168, 245],\n",
       "       [  0, 158, 241],\n",
       "       [  0, 160, 235],\n",
       "       [ 54, 185, 251],\n",
       "       [ 34, 171, 241],\n",
       "       [ 43, 183, 244],\n",
       "       [ 47, 184, 249],\n",
       "       [ 15, 166, 240],\n",
       "       [ 33, 173, 242],\n",
       "       [ 28, 179, 245],\n",
       "       [ 37, 169, 242],\n",
       "       [ 22, 170, 246],\n",
       "       [  0, 148, 234],\n",
       "       [ 33, 182, 251],\n",
       "       [ 53, 177, 253],\n",
       "       [  0, 147, 231],\n",
       "       [ 24, 163, 241],\n",
       "       [  8, 170, 248],\n",
       "       [ 43, 177, 248],\n",
       "       [ 54, 180, 252],\n",
       "       [  0, 160, 241],\n",
       "       [  0, 162, 244],\n",
       "       [  0, 161, 240],\n",
       "       [  0, 166, 242],\n",
       "       [  3, 173, 248],\n",
       "       [ 32, 183, 251],\n",
       "       [ 46, 187, 251],\n",
       "       [ 27, 181, 249],\n",
       "       [ 64, 195, 252],\n",
       "       [ 75, 195, 254],\n",
       "       [ 46, 185, 250],\n",
       "       [ 49, 171, 242],\n",
       "       [ 44, 169, 242],\n",
       "       [ 61, 185, 245],\n",
       "       [ 83, 197, 249],\n",
       "       [120, 212, 246],\n",
       "       [117, 211, 239],\n",
       "       [131, 218, 238],\n",
       "       [130, 218, 239],\n",
       "       [146, 221, 240],\n",
       "       [176, 234, 242],\n",
       "       [179, 234, 243],\n",
       "       [148, 229, 245],\n",
       "       [ 78, 214, 246],\n",
       "       [ 42, 210, 250],\n",
       "       [  5, 207, 250],\n",
       "       [  9, 207, 253],\n",
       "       [ 34, 208, 255],\n",
       "       [  0, 195, 255],\n",
       "       [  0, 196, 255],\n",
       "       [  0, 200, 255],\n",
       "       [ 42, 216, 255],\n",
       "       [ 69, 194, 255],\n",
       "       [ 78, 185, 255],\n",
       "       [ 79, 177, 255],\n",
       "       [ 79, 177, 255],\n",
       "       [ 52, 166, 255],\n",
       "       [107, 186, 255],\n",
       "       [ 46, 165, 255],\n",
       "       [ 17, 166, 255],\n",
       "       [ 78, 182, 243],\n",
       "       [ 98, 176, 214],\n",
       "       [ 60, 168, 214],\n",
       "       [ 66, 176, 226],\n",
       "       [ 32, 154, 210],\n",
       "       [ 77, 177, 217],\n",
       "       [103, 187, 225],\n",
       "       [ 96, 177, 221],\n",
       "       [ 55, 157, 219],\n",
       "       [  6, 112, 197],\n",
       "       [  0, 105, 190],\n",
       "       [  0, 113, 196],\n",
       "       [ 24, 126, 203],\n",
       "       [115, 172, 217],\n",
       "       [  0, 122, 210],\n",
       "       [  0, 110, 195],\n",
       "       [  0, 102, 184],\n",
       "       [ 16, 124, 202],\n",
       "       [ 58, 151, 215],\n",
       "       [ 50, 136, 209],\n",
       "       [ 28, 130, 207],\n",
       "       [ 25, 134, 210],\n",
       "       [  7, 116, 193],\n",
       "       [ 83, 146, 224],\n",
       "       [ 29, 131, 211],\n",
       "       [  3, 124, 200],\n",
       "       [ 88, 168, 229],\n",
       "       [ 28, 138, 208],\n",
       "       [  3, 122, 208],\n",
       "       [  0, 122, 203],\n",
       "       [  0, 142, 220],\n",
       "       [ 29, 159, 228],\n",
       "       [  0, 159, 231],\n",
       "       [  1, 161, 228],\n",
       "       [ 82, 169, 226],\n",
       "       [  0, 149, 219],\n",
       "       [  3, 153, 225],\n",
       "       [  6, 148, 223],\n",
       "       [ 15, 134, 214],\n",
       "       [  4, 122, 205],\n",
       "       [  0, 125, 205],\n",
       "       [  0, 122, 204],\n",
       "       [  0, 127, 210],\n",
       "       [  0, 122, 208],\n",
       "       [  0, 118, 201],\n",
       "       [ 22, 140, 220],\n",
       "       [  3, 147, 222],\n",
       "       [  0, 142, 217],\n",
       "       [ 22, 140, 221],\n",
       "       [  8, 122, 205],\n",
       "       [ 14, 129, 211],\n",
       "       [ 20, 137, 218],\n",
       "       [ 26, 142, 223],\n",
       "       [ 34, 142, 224],\n",
       "       [ 23, 133, 215],\n",
       "       [ 18, 127, 209],\n",
       "       [ 21, 124, 211],\n",
       "       [ 33, 128, 215],\n",
       "       [ 36, 140, 220],\n",
       "       [ 22, 139, 220],\n",
       "       [  2, 138, 222],\n",
       "       [  5, 145, 227],\n",
       "       [  4, 145, 225],\n",
       "       [ 32, 150, 230],\n",
       "       [ 14, 147, 226],\n",
       "       [  0, 144, 227],\n",
       "       [  0, 142, 222],\n",
       "       [  0, 147, 228],\n",
       "       [  0, 142, 222],\n",
       "       [  0, 130, 211],\n",
       "       [  0, 141, 220],\n",
       "       [  0, 153, 234],\n",
       "       [  0, 134, 222],\n",
       "       [  0, 131, 220],\n",
       "       [  0, 127, 215],\n",
       "       [  0, 123, 213],\n",
       "       [  0, 134, 223],\n",
       "       [  0, 130, 221],\n",
       "       [  0, 134, 227],\n",
       "       [  0, 132, 217],\n",
       "       [  0, 137, 227],\n",
       "       [ 12, 153, 230],\n",
       "       [ 23, 155, 231],\n",
       "       [  8, 148, 231],\n",
       "       [  0, 141, 223],\n",
       "       [  0, 141, 227],\n",
       "       [  0, 140, 224],\n",
       "       [  0, 134, 219],\n",
       "       [  0, 135, 220],\n",
       "       [  0, 131, 218],\n",
       "       [  0, 138, 220],\n",
       "       [  0, 157, 227],\n",
       "       [ 63, 186, 230],\n",
       "       [ 41, 196, 226],\n",
       "       [ 15, 206, 231],\n",
       "       [ 16, 204, 230],\n",
       "       [ 55, 217, 241],\n",
       "       [ 22, 202, 233],\n",
       "       [ 82, 212, 240],\n",
       "       [ 38, 200, 234],\n",
       "       [ 77, 208, 244],\n",
       "       [ 95, 208, 253],\n",
       "       [ 29, 178, 255],\n",
       "       [ 97, 177, 255],\n",
       "       [124, 181, 254],\n",
       "       [145, 191, 254],\n",
       "       [151, 191, 253],\n",
       "       [203, 223, 246],\n",
       "       [ 73, 112, 112]], dtype=uint8)"
      ]
     },
     "execution_count": 13,
     "metadata": {},
     "output_type": "execute_result"
    }
   ],
   "source": [
    "imag[100,:]# same result with slicing method its hows color pixcel value"
   ]
  },
  {
   "cell_type": "code",
   "execution_count": 9,
   "metadata": {},
   "outputs": [
    {
     "data": {
      "text/plain": [
       "(320, 3)"
      ]
     },
     "execution_count": 9,
     "metadata": {},
     "output_type": "execute_result"
    }
   ],
   "source": [
    "imag[0].shape"
   ]
  },
  {
   "cell_type": "code",
   "execution_count": 16,
   "metadata": {},
   "outputs": [
    {
     "data": {
      "text/plain": [
       "array([  0,   0,   0,   0,   0,   0,   0,   0,   0, 123, 194, 177, 182,\n",
       "       189, 207, 223, 225, 226, 228, 229, 230, 227, 222, 225, 202, 184,\n",
       "       170, 139, 134, 147, 207, 240, 234, 215, 199, 172, 147, 140, 137,\n",
       "       141, 195, 224, 190, 176, 173, 188, 168, 165, 170, 170, 196, 179,\n",
       "       162, 157, 164, 206, 174, 185, 209, 172, 163, 148, 159, 155, 172,\n",
       "       177, 164, 202, 165, 143, 179, 160, 181, 153, 165, 169, 210, 156,\n",
       "       225, 209, 167, 147, 179, 183, 168, 158, 164, 167, 171, 204, 196,\n",
       "       203, 176, 172, 168, 159, 201, 170, 159, 144, 159, 196, 219, 156,\n",
       "       141, 150, 172, 144, 147, 137, 148, 147, 169, 193, 184, 170, 175,\n",
       "       186, 197, 151, 132, 155, 157, 151, 163, 153, 150, 187, 168, 172,\n",
       "       170, 167, 157, 153, 151, 151, 187, 161, 159, 166, 171, 175, 175,\n",
       "       177, 163, 166, 190, 145, 167, 171, 151, 168, 158, 160, 185, 171,\n",
       "       183, 184, 166, 173, 179, 169, 170, 148, 182, 177, 147, 163, 170,\n",
       "       177, 180, 160, 162, 161, 166, 173, 183, 187, 181, 195, 195, 185,\n",
       "       171, 169, 185, 197, 212, 211, 218, 218, 221, 234, 234, 229, 214,\n",
       "       210, 207, 207, 208, 195, 196, 200, 216, 194, 185, 177, 177, 166,\n",
       "       186, 165, 166, 182, 176, 168, 176, 154, 177, 187, 177, 157, 112,\n",
       "       105, 113, 126, 172, 122, 110, 102, 124, 151, 136, 130, 134, 116,\n",
       "       146, 131, 124, 168, 138, 122, 122, 142, 159, 159, 161, 169, 149,\n",
       "       153, 148, 134, 122, 125, 122, 127, 122, 118, 140, 147, 142, 140,\n",
       "       122, 129, 137, 142, 142, 133, 127, 124, 128, 140, 139, 138, 145,\n",
       "       145, 150, 147, 144, 142, 147, 142, 130, 141, 153, 134, 131, 127,\n",
       "       123, 134, 130, 134, 132, 137, 153, 155, 148, 141, 141, 140, 134,\n",
       "       135, 131, 138, 157, 186, 196, 206, 204, 217, 202, 212, 200, 208,\n",
       "       208, 178, 177, 181, 191, 191, 223, 112], dtype=uint8)"
      ]
     },
     "execution_count": 16,
     "metadata": {},
     "output_type": "execute_result"
    }
   ],
   "source": [
    "imag[100,:,1]#by default it acces all channels but we can assign chanel value"
   ]
  },
  {
   "cell_type": "markdown",
   "metadata": {},
   "source": [
    "## we can change chanel value to change imag"
   ]
  },
  {
   "cell_type": "code",
   "execution_count": 18,
   "metadata": {},
   "outputs": [],
   "source": [
    "cv2.imshow(\"window\",imag[:,:,(2,1,0)])# these three values can change\n",
    "cv2.waitKey(0)\n",
    "cv2.destroyAllWindows()"
   ]
  },
  {
   "cell_type": "markdown",
   "metadata": {},
   "source": [
    "## access whole rows and single col"
   ]
  },
  {
   "cell_type": "code",
   "execution_count": 20,
   "metadata": {},
   "outputs": [
    {
     "data": {
      "text/plain": [
       "(246, 2)"
      ]
     },
     "execution_count": 20,
     "metadata": {},
     "output_type": "execute_result"
    }
   ],
   "source": [
    "imag[:,200,(1,2)].shape"
   ]
  },
  {
   "cell_type": "code",
   "execution_count": 1,
   "metadata": {},
   "outputs": [
    {
     "name": "stdout",
     "output_type": "stream",
     "text": [
      "(492, 640, 3)\n"
     ]
    }
   ],
   "source": [
    "import cv2\n",
    "import numpy as np\n",
    "path=r\"C:\\Users\\Mr\\Downloads\\images\\fruit.png\"\n",
    "imag=cv2.imread(path)\n",
    "print(imag.shape)\n",
    "imag=cv2.resize(imag,(int(imag.shape[1]*0.5),int(imag.shape[0] * 0.5)))# for half oixels of iamg\n",
    "\n",
    "cv2.imshow(\"window\",imag)\n",
    "cv2.waitKey(0)\n",
    "cv2.destroyAllWindows()"
   ]
  },
  {
   "cell_type": "markdown",
   "metadata": {},
   "source": [
    "## access the part of image"
   ]
  },
  {
   "cell_type": "code",
   "execution_count": 5,
   "metadata": {},
   "outputs": [],
   "source": [
    "imag[67:100,50:110] #   imag[y1:y2,x1:x2]y1=100,x1=67,y2=200,x2=220\n",
    "cv2.imshow(\"window\",imag[67:100,50:110])\n",
    "cv2.waitKey(0)\n",
    "cv2.destroyAllWindows()"
   ]
  },
  {
   "cell_type": "code",
   "execution_count": 16,
   "metadata": {},
   "outputs": [],
   "source": [
    "imag[110:150,70:130] #   imag[y1:y2,x1:x2]y1=100,x1=67,y2=200,x2=220\n",
    "cv2.imshow(\"window\",imag[110:150,70:130])\n",
    "cv2.imwrite(\"part of img.jpg\",imag[110:150,70:130])#save image\n",
    "cv2.waitKey(0)\n",
    "cv2.destroyAllWindows()"
   ]
  },
  {
   "cell_type": "code",
   "execution_count": 19,
   "metadata": {},
   "outputs": [],
   "source": [
    "for i in range(imag.shape[0]):# access one row and all cols\n",
    "    cv2.imshow(\"image\",imag[0:i+1,:])\n",
    "    if cv2.waitKey(0) &0xff==ord('q'):\n",
    "       break\n",
    "cv2.destroyAllWindows()\n",
    "\n"
   ]
  },
  {
   "cell_type": "code",
   "execution_count": 20,
   "metadata": {},
   "outputs": [],
   "source": [
    "for i in range(imag.shape[1]): #access one row and all cols\n",
    "    cv2.imshow(\"image\",imag[:,0:i+1])\n",
    "    if cv2.waitKey(0) &0xff==ord('q'):\n",
    "       break\n",
    "cv2.destroyAllWindows()\n",
    "\n"
   ]
  },
  {
   "cell_type": "markdown",
   "metadata": {},
   "source": [
    "# add color pixel in image"
   ]
  },
  {
   "cell_type": "code",
   "execution_count": 1,
   "metadata": {},
   "outputs": [],
   "source": [
    "import cv2\n",
    "import numpy as np\n",
    "import time\n",
    "import random"
   ]
  },
  {
   "cell_type": "code",
   "execution_count": 2,
   "metadata": {},
   "outputs": [],
   "source": [
    "path=r\"C:\\Users\\Mr\\Downloads\\images\\boy.jpeg\"\n",
    "img=cv2.imread(path)\n",
    "cv2.imshow(\"window\",img)\n",
    "cv2.waitKey(0)\n",
    "cv2.destroyAllWindows()"
   ]
  },
  {
   "cell_type": "markdown",
   "metadata": {},
   "source": [
    "# add new single color piXel in an image"
   ]
  },
  {
   "cell_type": "code",
   "execution_count": 25,
   "metadata": {},
   "outputs": [
    {
     "data": {
      "text/plain": [
       "array([106, 100, 101], dtype=uint8)"
      ]
     },
     "execution_count": 25,
     "metadata": {},
     "output_type": "execute_result"
    }
   ],
   "source": [
    "img[0][0]# at zero row pixel color value"
   ]
  },
  {
   "cell_type": "code",
   "execution_count": 28,
   "metadata": {},
   "outputs": [],
   "source": [
    "img_cop=img.copy()\n",
    "img_cop[0][0]=np.array([255,255,255])\n",
    "img_cop[0][1]=np.array([0,0,0])\n",
    "img_cop[0][2]=np.array([0,0,255])\n",
    "img_cop[0][3]=np.array([0,255,0])\n",
    "img_cop[0][0]=np.array([255,0,0])\n",
    "cv2.imshow(\"image\",img_cop)\n",
    "cv2.waitKey(0)\n",
    "cv2.destroyAllWindows()\n",
    "\n"
   ]
  },
  {
   "cell_type": "code",
   "execution_count": null,
   "metadata": {},
   "outputs": [],
   "source": [
    "import cv2\n",
    "import numpy as np\n",
    "import time\n",
    "import random\n",
    "path=r\"C:\\Users\\Mr\\Downloads\\images\\fruit.png\"\n",
    "img=cv2.imread(path)\n",
    "img_cop=img.copy()\n",
    "img_width=img_cop.shape[1]\n",
    "img_height=img_cop.shape[0]\n",
    "print(img_width)\n",
    "print(img_height)\n",
    "for col_indx in range(img_width):\n",
    "               if col_indx%2==0:\n",
    "                   img_cop[0][col_indx]=np.array([0,0,0])\n",
    "                   img_cop[1][col_indx]=np.array([0,0,255])\n",
    "                   img_cop[2][col_indx]=np.array([0,255,0])\n",
    "                   img_cop[3][col_indx]=np.array([0,255,255])\n",
    "                   img_cop[4][col_indx]=np.array([255,0,0])\n",
    "                   img_cop[5][col_indx]=np.array([0,0,0])\n",
    "                   img_cop[6][col_indx]=np.array([0,0,255])\n",
    "                   img_cop[7][col_indx]=np.array([0,255,0])\n",
    "                   img_cop[9][col_indx]=np.array([0,255,255])\n",
    "                   img_cop[4][col_indx]=np.array([255,0,0])\n",
    "                   cv2.imshow(\"image\",img_cop)\n",
    "cv2.waitKey(0)\n",
    "cv2.destroyAllWindows()\n"
   ]
  },
  {
   "cell_type": "code",
   "execution_count": 7,
   "metadata": {},
   "outputs": [
    {
     "name": "stdout",
     "output_type": "stream",
     "text": [
      "640\n",
      "492\n"
     ]
    }
   ],
   "source": [
    "import cv2\n",
    "import numpy as np\n",
    "import time\n",
    "import random\n",
    "path=r\"C:\\Users\\Mr\\Downloads\\images\\fruit.png\"\n",
    "img=cv2.imread(path)\n",
    "img_cop=img.copy()\n",
    "img_width=img_cop.shape[1]\n",
    "img_height=img_cop.shape[0]\n",
    "print(img_width)\n",
    "print(img_height)\n",
    "for row_indx in range(img_height):\n",
    "         for col_indx in range(img_width):\n",
    "               #if col_indx%2==0:\n",
    "               #if col_indx%5==0:\n",
    "                if col_indx%15==0:\n",
    "                   img_cop[row_indx][col_indx]=np.array([255,255,0])\n",
    "                   \n",
    "cv2.imshow(\"image\",img_cop)\n",
    "cv2.waitKey(0)\n",
    "cv2.destroyAllWindows()\n"
   ]
  },
  {
   "cell_type": "code",
   "execution_count": null,
   "metadata": {},
   "outputs": [],
   "source": [
    "import cv2\n",
    "import numpy as np\n",
    "import time\n",
    "import random\n",
    "path=r\"C:\\Users\\Mr\\Downloads\\images\\fruit.png\"\n",
    "img=cv2.imread(path)\n",
    "img_cop=img.copy()\n",
    "img_width=img_cop.shape[1]\n",
    "img_height=img_cop.shape[0]\n",
    "print(img_width)\n",
    "print(img_height)\n",
    "for row_indx in range(img_height):\n",
    "    #if row_indx%2==0:\n",
    "    if row_indx%15==0:\n",
    "         for col_indx in range(img_width):\n",
    "               #if col_indx%2==0:\n",
    "               #if col_indx%5==0:\n",
    "                if col_indx%15==0:\n",
    "                   img_cop[row_indx][col_indx]=np.array([255,255,0])\n",
    "                   \n",
    "cv2.imshow(\"image\",img_cop)\n",
    "cv2.waitKey(0)\n",
    "cv2.destroyAllWindows()\n"
   ]
  },
  {
   "cell_type": "markdown",
   "metadata": {},
   "source": [
    "## add new  random color pixel randomly in image"
   ]
  },
  {
   "cell_type": "code",
   "execution_count": 2,
   "metadata": {},
   "outputs": [
    {
     "name": "stdout",
     "output_type": "stream",
     "text": [
      "640\n",
      "492\n"
     ]
    }
   ],
   "source": [
    "import cv2\n",
    "import numpy as np\n",
    "import time\n",
    "import random\n",
    "path=r\"C:\\Users\\Mr\\Downloads\\images\\fruit.png\"\n",
    "img=cv2.imread(path)\n",
    "img_cop=img.copy()\n",
    "img_width=img_cop.shape[1]\n",
    "img_height=img_cop.shape[0]\n",
    "print(img_width)\n",
    "print(img_height)\n",
    "for row_indx in range(img_height):\n",
    "    #if row_indx%2==0:\n",
    "    if row_indx%15==0:\n",
    "         for col_indx in range(random.randint(0,600)):\n",
    "               #if col_indx%2==0:\n",
    "               #if col_indx%5==0:\n",
    "                if col_indx%15==0:\n",
    "                   b_random=random.randint(0,255)\n",
    "                   g_random=random.randint(0,255)#g_random=np.random.randint(0,25) same funtion\n",
    "                   r_random=random.randint(0,255)\n",
    "                   img_cop[row_indx][col_indx]=np.array([b_random,r_random,g_random])\n",
    "                   \n",
    "cv2.imshow(\"image\",img_cop)\n",
    "cv2.waitKey(0)\n",
    "cv2.destroyAllWindows()\n"
   ]
  },
  {
   "cell_type": "markdown",
   "metadata": {},
   "source": [
    "## add new color pixel in portion or any location"
   ]
  },
  {
   "cell_type": "code",
   "execution_count": null,
   "metadata": {},
   "outputs": [],
   "source": [
    "#Importing opencv\n",
    "import cv2\n",
    "\n",
    "# instance of video capture\n",
    "cap = cv2.VideoCapture(0)\n",
    "\n",
    "#Checking if the camera is opened or not\n",
    "opened = cap.isOpened()\n",
    "\n",
    "#fourcc - four character code for determining the codec of the video file\n",
    "fourcc = cv2.VideoWriter_fourcc(*'MJPG')\n",
    "\n",
    "\n",
    "#Getting the properties of the video using video capture instance\n",
    "height = cap.get(cv2.CAP_PROP_FRAME_HEIGHT)\n",
    "width = cap.get(cv2.CAP_PROP_FRAME_WIDTH)\n",
    "fps = cap.get(cv2.CAP_PROP_FPS)\n",
    "\n",
    "# output video writer creation\n",
    "out = cv2.VideoWriter('my_video.avi', fourcc,fps ,(int(width), int(height)))\n",
    "\n",
    "print(\"Frames are {}\".format(fps))\n",
    "\n",
    "\n",
    "#Showing and storing the live camera feed\n",
    "#Check if camera is opened\n",
    "if(opened):\n",
    "\t#Run until it remains open\n",
    "\twhile(cap.isOpened()):\n",
    "\t\t#Get the frame from Video capture Instance\n",
    "\t\tret, frame = cap.read()\n",
    "\t\t#\n",
    "\t\t#return ret Variable tells if the frame is returned successfully\n",
    "\t\tif(ret==True):\n",
    "\t\t\tcv2.imshow('winname', frame)\n",
    "\t\t\t#Writing the frame to video output\n",
    "\t\t\tout.write(frame)\n",
    "\t\t\t#Wait for 2 milliseconds for each frame \n",
    "\t\t\t#If user press 'esc' key then exit loop\n",
    "\t\t\tif(cv2.waitKey(2)==27):\n",
    "\t\t\t\tbreak\n",
    "out.release()\n",
    "cap.release()\n",
    "cv2.destroyAllWindows()"
   ]
  }
 ],
 "metadata": {
  "kernelspec": {
   "display_name": "open_cv",
   "language": "python",
   "name": "python3"
  },
  "language_info": {
   "codemirror_mode": {
    "name": "ipython",
    "version": 3
   },
   "file_extension": ".py",
   "mimetype": "text/x-python",
   "name": "python",
   "nbconvert_exporter": "python",
   "pygments_lexer": "ipython3",
   "version": "3.8.19"
  }
 },
 "nbformat": 4,
 "nbformat_minor": 2
}
